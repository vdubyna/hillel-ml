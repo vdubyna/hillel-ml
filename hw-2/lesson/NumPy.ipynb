{
  "cells": [
    {
      "cell_type": "code",
      "execution_count": null,
      "metadata": {
        "id": "8N4pruBWx4oo"
      },
      "outputs": [],
      "source": [
        "# Import library\n",
        "import numpy as np\n",
        "\n",
        "from numpy import pi"
      ]
    },
    {
      "cell_type": "code",
      "source": [
        "from google.colab import drive\n",
        "drive.mount('/content/drive')"
      ],
      "metadata": {
        "colab": {
          "base_uri": "https://localhost:8080/"
        },
        "id": "PKeQ4EKoLT_J",
        "outputId": "805d438b-e035-4384-ce77-94aace4cc1bb"
      },
      "execution_count": null,
      "outputs": [
        {
          "output_type": "stream",
          "name": "stdout",
          "text": [
            "Mounted at /content/drive\n"
          ]
        }
      ]
    },
    {
      "cell_type": "code",
      "source": [
        "/content/drive/MyDrive"
      ],
      "metadata": {
        "id": "Jo3hiUGMAUBG"
      },
      "execution_count": null,
      "outputs": []
    },
    {
      "cell_type": "code",
      "source": [
        "a =np.genfromtxt('https://archive.ics.uci.edu/ml/machine-learning-databases/iris/iris.data', dtype=float, delimiter=',', usecols=(0,1,2,3))"
      ],
      "metadata": {
        "id": "Q4CBXlQWJ6tk"
      },
      "execution_count": null,
      "outputs": []
    },
    {
      "cell_type": "code",
      "source": [
        "a.shape"
      ],
      "metadata": {
        "colab": {
          "base_uri": "https://localhost:8080/"
        },
        "id": "XKMQNuqqK38M",
        "outputId": "18e844da-de48-4b87-97fc-32abba3b7824"
      },
      "execution_count": null,
      "outputs": [
        {
          "output_type": "execute_result",
          "data": {
            "text/plain": [
              "(150, 4)"
            ]
          },
          "metadata": {},
          "execution_count": 7
        }
      ]
    },
    {
      "cell_type": "code",
      "source": [
        "#!pip install numpy==1.24"
      ],
      "metadata": {
        "id": "8IxM3C8gyQT-"
      },
      "execution_count": null,
      "outputs": []
    },
    {
      "cell_type": "code",
      "execution_count": null,
      "metadata": {
        "colab": {
          "base_uri": "https://localhost:8080/",
          "height": 35
        },
        "id": "vAbUWVvmx4ou",
        "outputId": "b8b64ce0-a898-4c7d-8ef3-a6d809f2ee24"
      },
      "outputs": [
        {
          "output_type": "execute_result",
          "data": {
            "text/plain": [
              "'1.23.5'"
            ],
            "application/vnd.google.colaboratory.intrinsic+json": {
              "type": "string"
            }
          },
          "metadata": {},
          "execution_count": 4
        }
      ],
      "source": [
        "np.__version__"
      ]
    },
    {
      "cell_type": "markdown",
      "metadata": {
        "id": "s8QCVzT4x4ow"
      },
      "source": [
        "### Creating"
      ]
    },
    {
      "cell_type": "code",
      "execution_count": null,
      "metadata": {
        "colab": {
          "base_uri": "https://localhost:8080/"
        },
        "id": "N1e6VORVx4oy",
        "outputId": "95c1c124-37bb-419d-e355-c7fcaab848a2"
      },
      "outputs": [
        {
          "output_type": "stream",
          "name": "stdout",
          "text": [
            "<class 'numpy.ndarray'>\n",
            "(5,)\n"
          ]
        },
        {
          "output_type": "execute_result",
          "data": {
            "text/plain": [
              "array([0, 1, 2, 3, 4])"
            ]
          },
          "metadata": {},
          "execution_count": 9
        }
      ],
      "source": [
        "# Create a 1d array from a list\n",
        "list1 = [0, 1, 2, 3, 4]\n",
        "arr1d = np.array(list1)\n",
        "# arr1d = np.array([0, 1, 2, 3, 4])\n",
        "print(type(arr1d))\n",
        "print(arr1d.shape)\n",
        "arr1d"
      ]
    },
    {
      "cell_type": "code",
      "execution_count": null,
      "metadata": {
        "colab": {
          "base_uri": "https://localhost:8080/"
        },
        "id": "kGZqwCMNx4oz",
        "outputId": "31d82b26-5c26-4a53-d094-ad5b40d42848"
      },
      "outputs": [
        {
          "output_type": "execute_result",
          "data": {
            "text/plain": [
              "array([2, 3, 4, 5, 6])"
            ]
          },
          "metadata": {},
          "execution_count": 7
        }
      ],
      "source": [
        "arr1d + 2"
      ]
    },
    {
      "cell_type": "code",
      "execution_count": null,
      "metadata": {
        "colab": {
          "base_uri": "https://localhost:8080/"
        },
        "id": "pd2m25Iax4oz",
        "outputId": "c01a8015-618e-45f2-e3e4-1fcafdbe98a7"
      },
      "outputs": [
        {
          "output_type": "execute_result",
          "data": {
            "text/plain": [
              "array([1, 2, 3, 4, 5])"
            ]
          },
          "metadata": {},
          "execution_count": 16
        }
      ],
      "source": [
        "np.array([1, 2, 3, 4, 5, 6], ndmin = 1)"
      ]
    },
    {
      "cell_type": "code",
      "execution_count": null,
      "metadata": {
        "colab": {
          "base_uri": "https://localhost:8080/"
        },
        "id": "fdIFLwvGx4o0",
        "outputId": "3db9de68-4884-4d46-8186-9b8b7a5df092"
      },
      "outputs": [
        {
          "output_type": "stream",
          "name": "stdout",
          "text": [
            "Shape:  (3, 3)\n",
            "Datatype:  int64\n",
            "Size:  9\n",
            "Num Dimensions:  2\n"
          ]
        },
        {
          "output_type": "execute_result",
          "data": {
            "text/plain": [
              "array([[0, 1, 2],\n",
              "       [3, 4, 5],\n",
              "       [6, 7, 8]])"
            ]
          },
          "metadata": {},
          "execution_count": 17
        }
      ],
      "source": [
        "# Create a 2d array from a list of lists\n",
        "list2 = [[0, 1, 2], [3, 4, 5], [6, 7, 8]]\n",
        "arr2d = np.array(list2)\n",
        "\n",
        "# shape\n",
        "print('Shape: ', arr2d.shape)\n",
        "# dtype\n",
        "print('Datatype: ', arr2d.dtype)\n",
        "# size\n",
        "print('Size: ', arr2d.size)\n",
        "# ndim\n",
        "print('Num Dimensions: ', arr2d.ndim)\n",
        "\n",
        "arr2d"
      ]
    },
    {
      "cell_type": "code",
      "execution_count": null,
      "metadata": {
        "colab": {
          "base_uri": "https://localhost:8080/"
        },
        "id": "Z6_sIpmxx4o2",
        "outputId": "d8eec22d-c5a5-4d67-8c74-208a01c5e62d"
      },
      "outputs": [
        {
          "output_type": "execute_result",
          "data": {
            "text/plain": [
              "array([[0., 0., 0., 0.],\n",
              "       [0., 0., 0., 0.],\n",
              "       [0., 0., 0., 0.],\n",
              "       [0., 0., 0., 0.],\n",
              "       [0., 0., 0., 0.]])"
            ]
          },
          "metadata": {},
          "execution_count": 18
        }
      ],
      "source": [
        "np.zeros((5, 4))"
      ]
    },
    {
      "cell_type": "code",
      "execution_count": null,
      "metadata": {
        "colab": {
          "base_uri": "https://localhost:8080/"
        },
        "id": "FtmV65oMx4o3",
        "outputId": "095a288f-7f7e-4fdc-92d3-b493f973fbc1"
      },
      "outputs": [
        {
          "output_type": "execute_result",
          "data": {
            "text/plain": [
              "array([[1., 1., 1., 1.],\n",
              "       [1., 1., 1., 1.],\n",
              "       [1., 1., 1., 1.]], dtype=float16)"
            ]
          },
          "metadata": {},
          "execution_count": 21
        }
      ],
      "source": [
        "np.ones((3, 4), dtype=np.float16)"
      ]
    },
    {
      "cell_type": "code",
      "execution_count": null,
      "metadata": {
        "colab": {
          "base_uri": "https://localhost:8080/"
        },
        "id": "c6O84GG3x4o4",
        "outputId": "1db224bd-4ee4-4d91-ca83-8cd3ee9a68f7"
      },
      "outputs": [
        {
          "output_type": "execute_result",
          "data": {
            "text/plain": [
              "array([[4.88116688e-310, 0.00000000e+000, 0.00000000e+000,\n",
              "        0.00000000e+000],\n",
              "       [0.00000000e+000, 0.00000000e+000, 0.00000000e+000,\n",
              "        0.00000000e+000],\n",
              "       [0.00000000e+000, 0.00000000e+000, 0.00000000e+000,\n",
              "        0.00000000e+000]])"
            ]
          },
          "metadata": {},
          "execution_count": 26
        }
      ],
      "source": [
        "np.empty((3, 4))"
      ]
    },
    {
      "cell_type": "code",
      "execution_count": null,
      "metadata": {
        "colab": {
          "base_uri": "https://localhost:8080/"
        },
        "id": "R-wRRy_ox4o4",
        "outputId": "895ed923-f9da-4295-c281-47e4ab05f1e8"
      },
      "outputs": [
        {
          "output_type": "execute_result",
          "data": {
            "text/plain": [
              "array([10, 12, 14, 16, 18, 20, 22, 24, 26, 28])"
            ]
          },
          "metadata": {},
          "execution_count": 27
        }
      ],
      "source": [
        "np.arange(10, 30, 2)"
      ]
    },
    {
      "cell_type": "code",
      "execution_count": null,
      "metadata": {
        "colab": {
          "base_uri": "https://localhost:8080/"
        },
        "id": "4H0wE3Kvx4o5",
        "outputId": "25bc7bac-efd1-4348-db4a-bba7bc29997a"
      },
      "outputs": [
        {
          "output_type": "execute_result",
          "data": {
            "text/plain": [
              "array([0. , 0.3, 0.6, 0.9, 1.2, 1.5, 1.8])"
            ]
          },
          "metadata": {},
          "execution_count": 14
        }
      ],
      "source": [
        "np.arange(0, 2, 0.3)"
      ]
    },
    {
      "cell_type": "code",
      "execution_count": null,
      "metadata": {
        "colab": {
          "base_uri": "https://localhost:8080/"
        },
        "id": "V5k4fYUIx4o6",
        "outputId": "05ddeaf4-fc2d-48e0-cc62-101a836283fc"
      },
      "outputs": [
        {
          "output_type": "execute_result",
          "data": {
            "text/plain": [
              "array([0.  , 0.22, 0.44, 0.67, 0.89, 1.11, 1.33, 1.56, 1.78, 2.  ])"
            ]
          },
          "metadata": {},
          "execution_count": 104
        }
      ],
      "source": [
        "np.linspace(0, 2, 10)"
      ]
    },
    {
      "cell_type": "code",
      "execution_count": null,
      "metadata": {
        "id": "Dcv6Xp6Qx4o6"
      },
      "outputs": [],
      "source": [
        "x = np.linspace(0, 2*pi, 6)\n",
        "f = np.sin(x)"
      ]
    },
    {
      "cell_type": "code",
      "execution_count": null,
      "outputs": [
        {
          "output_type": "execute_result",
          "data": {
            "text/plain": [
              "array([ 0.00000000e+00,  9.51056516e-01,  5.87785252e-01, -5.87785252e-01,\n",
              "       -9.51056516e-01, -2.44929360e-16])"
            ]
          },
          "metadata": {},
          "execution_count": 29
        }
      ],
      "source": [
        "f"
      ],
      "metadata": {
        "colab": {
          "base_uri": "https://localhost:8080/"
        },
        "id": "YzbPBLcdx4o7",
        "outputId": "f904027f-4090-4db6-89b1-d2b2aeb0242d"
      }
    },
    {
      "cell_type": "code",
      "execution_count": null,
      "metadata": {
        "colab": {
          "base_uri": "https://localhost:8080/"
        },
        "id": "jr77JcrYx4o7",
        "outputId": "3f712c03-a0be-40a2-e850-017200731d16"
      },
      "outputs": [
        {
          "output_type": "execute_result",
          "data": {
            "text/plain": [
              "array([2.71e+00, 6.17e+02, 1.40e+05, 3.20e+07, 7.28e+09, 1.66e+12,\n",
              "       3.77e+14, 8.59e+16, 1.96e+19, 4.45e+21])"
            ]
          },
          "metadata": {},
          "execution_count": 18
        }
      ],
      "source": [
        "np.set_printoptions(precision=2)\n",
        "np.logspace(start=1, stop=50, num=10, base=2.71)"
      ]
    },
    {
      "cell_type": "code",
      "execution_count": null,
      "metadata": {
        "colab": {
          "base_uri": "https://localhost:8080/"
        },
        "id": "bS1zVUchx4o8",
        "outputId": "03bde974-4c2d-43e3-c866-16748e33e3c5"
      },
      "outputs": [
        {
          "output_type": "stream",
          "name": "stdout",
          "text": [
            "Tile:    [[1 2 3 1 2 3]\n",
            " [4 5 6 4 5 6]]\n",
            "Repeat:  [1 1 2 2 3 3 4 4 5 5 6 6]\n"
          ]
        }
      ],
      "source": [
        "a = [[1,2,3],[4,5,6]]\n",
        "\n",
        "# Repeat whole of 'a' two times\n",
        "print('Tile:   ', np.tile(a, 2))\n",
        "\n",
        "# Repeat each element of 'a' two times\n",
        "print('Repeat: ', np.repeat(a, 2))"
      ]
    },
    {
      "cell_type": "markdown",
      "metadata": {
        "id": "ycSeH6tQx4o9"
      },
      "source": [
        "### Set types"
      ]
    },
    {
      "cell_type": "code",
      "execution_count": null,
      "metadata": {
        "colab": {
          "base_uri": "https://localhost:8080/"
        },
        "id": "VHkh3glZx4o-",
        "outputId": "13137324-4e28-4cf6-9f1d-7460aa86da16"
      },
      "outputs": [
        {
          "output_type": "execute_result",
          "data": {
            "text/plain": [
              "array([[0., 1., 2.],\n",
              "       [3., 4., 5.],\n",
              "       [6., 7., 8.]])"
            ]
          },
          "metadata": {},
          "execution_count": 111
        }
      ],
      "source": [
        "# Create a float 2d array\n",
        "arr2d_f = np.array(list2, dtype='float') # 'float', 'int', 'bool', 'str', 'object', 'complex'\n",
        "                                         # 'float32', 'float64', 'int8', 'int16', 'int32', 'int64'\n",
        "arr2d_f"
      ]
    },
    {
      "cell_type": "code",
      "execution_count": null,
      "metadata": {
        "colab": {
          "base_uri": "https://localhost:8080/"
        },
        "id": "Sm96fbNSx4o_",
        "outputId": "ecddccd8-4284-4e78-af7b-c20dac31c51a"
      },
      "outputs": [
        {
          "output_type": "execute_result",
          "data": {
            "text/plain": [
              "array([['0.0', '1.0', '2.0'],\n",
              "       ['3.0', '4.0', '5.0'],\n",
              "       ['6.0', '7.0', '8.0']], dtype='<U32')"
            ]
          },
          "metadata": {},
          "execution_count": 112
        }
      ],
      "source": [
        "# Convert to 'int' datatype\n",
        "arr2d_i = arr2d_f.astype('str')\n",
        "arr2d_i"
      ]
    },
    {
      "cell_type": "code",
      "execution_count": null,
      "metadata": {
        "colab": {
          "base_uri": "https://localhost:8080/"
        },
        "id": "YqmseSO7x4pA",
        "outputId": "867c0039-3601-4add-ea09-45c099d1771d"
      },
      "outputs": [
        {
          "output_type": "execute_result",
          "data": {
            "text/plain": [
              "array([['0', '1', '2'],\n",
              "       ['3', '4', '5'],\n",
              "       ['6', '7', '8']], dtype='<U21')"
            ]
          },
          "metadata": {},
          "execution_count": 22
        }
      ],
      "source": [
        "# Convert to int then to str datatype\n",
        "arr2d_s = arr2d_f.astype('int').astype('str')\n",
        "arr2d_s"
      ]
    },
    {
      "cell_type": "code",
      "execution_count": null,
      "metadata": {
        "colab": {
          "base_uri": "https://localhost:8080/"
        },
        "id": "pjkB-h_Hx4pC",
        "outputId": "b94718ed-5c40-40bf-9468-27665cbb967b"
      },
      "outputs": [
        {
          "output_type": "execute_result",
          "data": {
            "text/plain": [
              "array([ True, False,  True])"
            ]
          },
          "metadata": {},
          "execution_count": 113
        }
      ],
      "source": [
        "# Create a boolean array\n",
        "arr2d_b = np.array([-1, 0, 10], dtype='bool')\n",
        "arr2d_b"
      ]
    },
    {
      "cell_type": "code",
      "execution_count": null,
      "metadata": {
        "colab": {
          "base_uri": "https://localhost:8080/"
        },
        "id": "Dw6qA0CZx4pD",
        "outputId": "0da908d5-102f-42e8-98aa-4f64d14a4ac7"
      },
      "outputs": [
        {
          "output_type": "execute_result",
          "data": {
            "text/plain": [
              "array([1, 'a'], dtype=object)"
            ]
          },
          "metadata": {},
          "execution_count": 116
        }
      ],
      "source": [
        "# Create an object array to hold numbers as well as strings\n",
        "arr1d_obj = np.array([1, 'a'], dtype='object')\n",
        "arr1d_obj"
      ]
    },
    {
      "cell_type": "code",
      "execution_count": null,
      "metadata": {
        "colab": {
          "base_uri": "https://localhost:8080/"
        },
        "id": "I3Cy9Ujhx4pE",
        "outputId": "c0e5045f-dbe8-401c-a1e5-a92c5439852a"
      },
      "outputs": [
        {
          "output_type": "execute_result",
          "data": {
            "text/plain": [
              "[1, 'a']"
            ]
          },
          "metadata": {},
          "execution_count": 25
        }
      ],
      "source": [
        "# Convert an array back to a list\n",
        "arr1d_obj.tolist()"
      ]
    },
    {
      "cell_type": "code",
      "execution_count": null,
      "outputs": [
        {
          "output_type": "execute_result",
          "data": {
            "text/plain": [
              "True"
            ]
          },
          "metadata": {},
          "execution_count": 117
        }
      ],
      "source": [
        "bool(np.nan)"
      ],
      "metadata": {
        "colab": {
          "base_uri": "https://localhost:8080/"
        },
        "id": "p2dxPR9vx4pH",
        "outputId": "3ba76fd7-66e6-42b9-8c4e-4c62a0cb36bc"
      }
    },
    {
      "cell_type": "markdown",
      "metadata": {
        "id": "hIrpDlvTx4pI"
      },
      "source": [
        "### Random numbers"
      ]
    },
    {
      "cell_type": "code",
      "execution_count": null,
      "metadata": {
        "colab": {
          "base_uri": "https://localhost:8080/"
        },
        "id": "0pr4Yk1sx4pI",
        "outputId": "94e0e54a-1f46-4f39-827e-b2b970f30d76"
      },
      "outputs": [
        {
          "output_type": "stream",
          "name": "stdout",
          "text": [
            "[[0.54340494 0.27836939]\n",
            " [0.42451759 0.84477613]]\n",
            "[[ 0.98132079  0.51421884]\n",
            " [ 0.22117967 -1.07004333]]\n",
            "[[4 0]\n",
            " [9 6]]\n",
            "0.3074232114748938\n",
            "[[0.95018431 0.12665424]\n",
            " [0.07898787 0.31135313]]\n",
            "['u' 'o' 'o' 'o' 'e' 'e' 'o' 'a' 'i' 'e']\n",
            "['o' 'e' 'o' 'i' 'e' 'i' 'i' 'i' 'a' 'o']\n"
          ]
        }
      ],
      "source": [
        "np.random.seed(100)\n",
        "\n",
        "# Random numbers between [0,1) of shape 2,2\n",
        "print(np.random.rand(2,2))\n",
        "\n",
        "# Normal distribution with mean=0 and variance=1 of shape 2,2\n",
        "print(np.random.randn(2,2))\n",
        "\n",
        "# Random integers between [0, 10) of shape 2,2\n",
        "print(np.random.randint(0, 10, size=[2,2]))\n",
        "\n",
        "# One random number between [0,1)\n",
        "print(np.random.random())\n",
        "\n",
        "# Random numbers between [0,1) of shape 2,2\n",
        "print(np.random.random(size=[2,2]))\n",
        "\n",
        "# Pick 10 items from a given list, with equal probability\n",
        "print(np.random.choice(['a', 'e', 'i', 'o', 'u'], size=10))\n",
        "\n",
        "# Pick 10 items from a given list with a predefined probability 'p'\n",
        "print(np.random.choice(['a', 'e', 'i', 'o', 'u'], size=10, p=[0.1, .3, 0.1, 0.4, 0.1]))"
      ]
    },
    {
      "cell_type": "markdown",
      "metadata": {
        "id": "ptTqtsAWx4pK"
      },
      "source": [
        "### Concatenate"
      ]
    },
    {
      "cell_type": "code",
      "execution_count": null,
      "metadata": {
        "colab": {
          "base_uri": "https://localhost:8080/"
        },
        "id": "RyYOOeMjx4pL",
        "outputId": "82e70f0f-9e4c-4080-95d2-31a2daaee674"
      },
      "outputs": [
        {
          "output_type": "stream",
          "name": "stdout",
          "text": [
            "[[0. 0. 0. 0.]\n",
            " [0. 0. 0. 0.]\n",
            " [0. 0. 0. 0.]\n",
            " [0. 0. 0. 0.]]\n",
            "[[1. 1. 1. 1.]\n",
            " [1. 1. 1. 1.]\n",
            " [1. 1. 1. 1.]\n",
            " [1. 1. 1. 1.]]\n"
          ]
        }
      ],
      "source": [
        "a = np.zeros([4, 4])\n",
        "b = np.ones([4, 4])\n",
        "print(a)\n",
        "print(b)"
      ]
    },
    {
      "cell_type": "code",
      "source": [],
      "metadata": {
        "id": "N79_WE7zzrA2"
      },
      "execution_count": null,
      "outputs": []
    },
    {
      "cell_type": "code",
      "execution_count": null,
      "metadata": {
        "colab": {
          "base_uri": "https://localhost:8080/"
        },
        "id": "FAzJCtDTx4pL",
        "outputId": "bad8904d-c643-4883-db55-862636a74e46"
      },
      "outputs": [
        {
          "output_type": "execute_result",
          "data": {
            "text/plain": [
              "array([[0., 0., 0., 0.],\n",
              "       [0., 0., 0., 0.],\n",
              "       [0., 0., 0., 0.],\n",
              "       [0., 0., 0., 0.],\n",
              "       [1., 1., 1., 1.],\n",
              "       [1., 1., 1., 1.],\n",
              "       [1., 1., 1., 1.],\n",
              "       [1., 1., 1., 1.]])"
            ]
          },
          "metadata": {},
          "execution_count": 120
        }
      ],
      "source": [
        "# Vertical Stack Equivalents (Row wise)\n",
        "np.concatenate([a, b], axis=0)\n",
        "np.vstack([a,b])\n",
        "np.r_[a,b]"
      ]
    },
    {
      "cell_type": "code",
      "execution_count": null,
      "metadata": {
        "colab": {
          "base_uri": "https://localhost:8080/"
        },
        "id": "oq0R2wnzx4pN",
        "outputId": "b798c339-fbdf-469a-a52f-9fc0271b85dc"
      },
      "outputs": [
        {
          "output_type": "execute_result",
          "data": {
            "text/plain": [
              "array([[0., 0., 0., 0., 1., 1., 1., 1.],\n",
              "       [0., 0., 0., 0., 1., 1., 1., 1.],\n",
              "       [0., 0., 0., 0., 1., 1., 1., 1.],\n",
              "       [0., 0., 0., 0., 1., 1., 1., 1.]])"
            ]
          },
          "metadata": {},
          "execution_count": 30
        }
      ],
      "source": [
        "# Horizontal Stack Equivalents (Coliumn wise)\n",
        "np.concatenate([a, b], axis=1)\n",
        "np.hstack([a,b])\n",
        "np.c_[a,b]"
      ]
    },
    {
      "cell_type": "code",
      "execution_count": null,
      "metadata": {
        "colab": {
          "base_uri": "https://localhost:8080/"
        },
        "id": "BLQJkIFPx4pO",
        "outputId": "be665264-9db0-4390-e028-97baff3dbb5b"
      },
      "outputs": [
        {
          "output_type": "execute_result",
          "data": {
            "text/plain": [
              "array([1, 2, 3, 0, 0, 4, 5, 6])"
            ]
          },
          "metadata": {},
          "execution_count": 31
        }
      ],
      "source": [
        "np.r_[[1, 2, 3], 0, 0, [4, 5, 6]]"
      ]
    },
    {
      "cell_type": "markdown",
      "metadata": {
        "id": "uf5yzjDjx4pO"
      },
      "source": [
        "### Flatten"
      ]
    },
    {
      "cell_type": "code",
      "execution_count": null,
      "metadata": {
        "colab": {
          "base_uri": "https://localhost:8080/"
        },
        "id": "vyD-g1ZUx4pP",
        "outputId": "90c4c9a1-7671-4c55-d620-4d3cd61b7ccf"
      },
      "outputs": [
        {
          "output_type": "execute_result",
          "data": {
            "text/plain": [
              "array([[1., 2., 3., 4.],\n",
              "       [3., 4., 5., 6.],\n",
              "       [5., 6., 7., 8.]])"
            ]
          },
          "metadata": {},
          "execution_count": 32
        }
      ],
      "source": [
        "list2 = [[1, 2, 3, 4],[3, 4, 5, 6], [5, 6, 7, 8]]\n",
        "arr2 = np.array(list2, dtype='float')\n",
        "arr2"
      ]
    },
    {
      "cell_type": "code",
      "execution_count": null,
      "metadata": {
        "colab": {
          "base_uri": "https://localhost:8080/"
        },
        "id": "MJVFD6k3x4pQ",
        "outputId": "677eb13a-e2c2-4c0f-df4b-de6e48ba51fb"
      },
      "outputs": [
        {
          "output_type": "execute_result",
          "data": {
            "text/plain": [
              "array([1., 2., 3., 4., 3., 4., 5., 6., 5., 6., 7., 8.])"
            ]
          },
          "metadata": {},
          "execution_count": 33
        }
      ],
      "source": [
        "arr2.flatten()"
      ]
    },
    {
      "cell_type": "code",
      "source": [
        "arr2"
      ],
      "metadata": {
        "colab": {
          "base_uri": "https://localhost:8080/"
        },
        "id": "2HA4Mr--z8oL",
        "outputId": "7afa70c6-af37-4174-e07c-5f652b44d0d7"
      },
      "execution_count": null,
      "outputs": [
        {
          "output_type": "execute_result",
          "data": {
            "text/plain": [
              "array([[1., 2., 3., 4.],\n",
              "       [3., 4., 5., 6.],\n",
              "       [5., 6., 7., 8.]])"
            ]
          },
          "metadata": {},
          "execution_count": 35
        }
      ]
    },
    {
      "cell_type": "code",
      "execution_count": null,
      "metadata": {
        "colab": {
          "base_uri": "https://localhost:8080/"
        },
        "id": "ayBqeJKFx4pR",
        "outputId": "50affe7d-43d0-4513-c81d-f4e687a45e50"
      },
      "outputs": [
        {
          "output_type": "execute_result",
          "data": {
            "text/plain": [
              "array([[1., 2., 3., 4.],\n",
              "       [3., 4., 5., 6.],\n",
              "       [5., 6., 7., 8.]])"
            ]
          },
          "metadata": {},
          "execution_count": 36
        }
      ],
      "source": [
        "b1 = arr2.flatten()\n",
        "b1[0] = 100  # changing b1 does not affect arr2\n",
        "arr2\n",
        "#b1"
      ]
    },
    {
      "cell_type": "code",
      "execution_count": null,
      "metadata": {
        "colab": {
          "base_uri": "https://localhost:8080/"
        },
        "id": "z_mMR735x4pS",
        "outputId": "e8283c2a-7302-4502-8e3b-8cc6cdb8092f"
      },
      "outputs": [
        {
          "output_type": "execute_result",
          "data": {
            "text/plain": [
              "array([[101.,   2.,   3.,   4.],\n",
              "       [  3.,   4.,   5.,   6.],\n",
              "       [  5.,   6.,   7.,   8.]])"
            ]
          },
          "metadata": {},
          "execution_count": 37
        }
      ],
      "source": [
        "# Changing the raveled array changes the parent also.\n",
        "b2 = arr2.ravel()\n",
        "b2[0] = 101  # changing b2 changes arr2 also\n",
        "arr2"
      ]
    },
    {
      "cell_type": "markdown",
      "metadata": {
        "id": "P6Cs_Hu9x4pT"
      },
      "source": [
        "### Reshape"
      ]
    },
    {
      "cell_type": "code",
      "execution_count": null,
      "metadata": {
        "colab": {
          "base_uri": "https://localhost:8080/"
        },
        "id": "NuNml3Uox4pU",
        "outputId": "6029ec33-61e2-446f-eb79-79b286864e71"
      },
      "outputs": [
        {
          "output_type": "execute_result",
          "data": {
            "text/plain": [
              "array([[101.,   2.,   3.,   4.,   3.,   4.],\n",
              "       [  5.,   6.,   5.,   6.,   7.,   8.]])"
            ]
          },
          "metadata": {},
          "execution_count": 127
        }
      ],
      "source": [
        "# Reshape a 3x4 array to 4x3 array\n",
        "arr2.reshape(2, 6)"
      ]
    },
    {
      "cell_type": "markdown",
      "metadata": {
        "id": "8_Okw6Rpx4pV"
      },
      "source": [
        "### Missing values"
      ]
    },
    {
      "cell_type": "code",
      "execution_count": null,
      "metadata": {
        "colab": {
          "base_uri": "https://localhost:8080/"
        },
        "id": "tmxzRA5Fx4pV",
        "outputId": "b28ac267-a250-40a2-f62f-bece400bd929"
      },
      "outputs": [
        {
          "output_type": "execute_result",
          "data": {
            "text/plain": [
              "array([[101.,   2.,   3.,   4.],\n",
              "       [  3.,  nan,  inf,   6.],\n",
              "       [  5.,   6.,   7.,   8.]])"
            ]
          },
          "metadata": {},
          "execution_count": 38
        }
      ],
      "source": [
        "# Insert a nan and an inf\n",
        "arr2[1,1] = np.nan  # not a number\n",
        "arr2[1,2] = np.inf  # infinite\n",
        "arr2"
      ]
    },
    {
      "cell_type": "code",
      "source": [
        "np.isnan(arr2)"
      ],
      "metadata": {
        "colab": {
          "base_uri": "https://localhost:8080/"
        },
        "id": "e0uXmaI9cy_D",
        "outputId": "c7586db6-44a6-4444-f6d0-2157934d28e2"
      },
      "execution_count": null,
      "outputs": [
        {
          "output_type": "execute_result",
          "data": {
            "text/plain": [
              "array([[False, False, False, False],\n",
              "       [False,  True, False, False],\n",
              "       [False, False, False, False]])"
            ]
          },
          "metadata": {},
          "execution_count": 39
        }
      ]
    },
    {
      "cell_type": "code",
      "source": [
        "np.isnan(arr2) | np.isinf(arr2)"
      ],
      "metadata": {
        "colab": {
          "base_uri": "https://localhost:8080/"
        },
        "id": "zSovUYKJwBEK",
        "outputId": "08528f6a-4bc1-4980-8e2f-b6f973efbcb2"
      },
      "execution_count": null,
      "outputs": [
        {
          "output_type": "execute_result",
          "data": {
            "text/plain": [
              "array([[False, False, False, False],\n",
              "       [False,  True,  True, False],\n",
              "       [False, False, False, False]])"
            ]
          },
          "metadata": {},
          "execution_count": 39
        }
      ]
    },
    {
      "cell_type": "code",
      "execution_count": null,
      "metadata": {
        "colab": {
          "base_uri": "https://localhost:8080/"
        },
        "id": "89SeQDRnx4pX",
        "outputId": "803f74a7-986b-410c-af65-f2f03e3c1237"
      },
      "outputs": [
        {
          "output_type": "execute_result",
          "data": {
            "text/plain": [
              "array([[101.,   2.,   3.,   4.],\n",
              "       [  3.,  -1.,  -1.,   6.],\n",
              "       [  5.,   6.,   7.,   8.]])"
            ]
          },
          "metadata": {},
          "execution_count": 46
        }
      ],
      "source": [
        "# Replace nan and inf with -1. Don't use arr2 == np.nan\n",
        "missing_bool = np.isnan(arr2) | np.isinf(arr2)\n",
        "missing_bool\n",
        "arr2[missing_bool] = -1\n",
        "arr2"
      ]
    },
    {
      "cell_type": "code",
      "source": [
        "arr2"
      ],
      "metadata": {
        "colab": {
          "base_uri": "https://localhost:8080/"
        },
        "id": "r27euMw8dzbq",
        "outputId": "cb35548d-ea95-40e5-e137-685442829026"
      },
      "execution_count": null,
      "outputs": [
        {
          "output_type": "execute_result",
          "data": {
            "text/plain": [
              "array([[101.,   2.,   3.,   4.],\n",
              "       [  3.,  -1.,  -1.,   6.],\n",
              "       [  5.,   6.,   7.,   8.]])"
            ]
          },
          "metadata": {},
          "execution_count": 47
        }
      ]
    },
    {
      "cell_type": "code",
      "source": [
        "arr2<10"
      ],
      "metadata": {
        "colab": {
          "base_uri": "https://localhost:8080/"
        },
        "id": "NCX83cORddYt",
        "outputId": "d6d6d80c-bf32-491e-89a8-273d63fb42e5"
      },
      "execution_count": null,
      "outputs": [
        {
          "output_type": "execute_result",
          "data": {
            "text/plain": [
              "array([[False,  True,  True,  True],\n",
              "       [ True, False, False,  True],\n",
              "       [ True,  True,  True,  True]])"
            ]
          },
          "metadata": {},
          "execution_count": 44
        }
      ]
    },
    {
      "cell_type": "code",
      "source": [
        "missing_bool"
      ],
      "metadata": {
        "colab": {
          "base_uri": "https://localhost:8080/"
        },
        "id": "gXMKkt9S2MrA",
        "outputId": "e221541d-e398-4bfb-a16e-55ad6c9196b0"
      },
      "execution_count": null,
      "outputs": [
        {
          "output_type": "execute_result",
          "data": {
            "text/plain": [
              "array([[False, False, False, False],\n",
              "       [False,  True,  True, False],\n",
              "       [False, False, False, False]])"
            ]
          },
          "metadata": {},
          "execution_count": 41
        }
      ]
    },
    {
      "cell_type": "markdown",
      "metadata": {
        "id": "dsyArnK4x4pY"
      },
      "source": [
        "### Unique"
      ]
    },
    {
      "cell_type": "code",
      "execution_count": null,
      "metadata": {
        "colab": {
          "base_uri": "https://localhost:8080/"
        },
        "id": "BkLdvtOkx4pY",
        "outputId": "a107cfb6-3aba-408d-937b-c9be9e0165d2"
      },
      "outputs": [
        {
          "output_type": "stream",
          "name": "stdout",
          "text": [
            "[6 3 7 4 6 9 2 6 7 4]\n"
          ]
        }
      ],
      "source": [
        "# Create random integers of size 10 between [0,10)\n",
        "np.random.seed(42)\n",
        "arr_rand = np.random.randint(0, 10, size=10)\n",
        "print(arr_rand)"
      ]
    },
    {
      "cell_type": "code",
      "execution_count": null,
      "metadata": {
        "colab": {
          "base_uri": "https://localhost:8080/"
        },
        "id": "_mjRF2wxx4pa",
        "outputId": "41d350a6-38c9-4fc4-932a-49f19acbfae6"
      },
      "outputs": [
        {
          "output_type": "stream",
          "name": "stdout",
          "text": [
            "Unique items :  [2 3 4 6 7 9]\n",
            "Counts       :  [1 1 2 3 2 1]\n"
          ]
        }
      ],
      "source": [
        "# Get the unique items and their counts\n",
        "uniqs, counts = np.unique(arr_rand, return_counts=True)\n",
        "print(\"Unique items : \", uniqs)\n",
        "print(\"Counts       : \", counts)"
      ]
    },
    {
      "cell_type": "markdown",
      "metadata": {
        "id": "b5RAvDCKx4pa"
      },
      "source": [
        "### Indexing"
      ]
    },
    {
      "cell_type": "code",
      "execution_count": null,
      "metadata": {
        "colab": {
          "base_uri": "https://localhost:8080/"
        },
        "id": "hVlR3GH1x4pa",
        "outputId": "c413e07d-f56b-408e-9440-4ed826a25a89"
      },
      "outputs": [
        {
          "output_type": "execute_result",
          "data": {
            "text/plain": [
              "array([[101.,   2.,   3.,   4.],\n",
              "       [  3.,  -1.,  -1.,   6.],\n",
              "       [  5.,   6.,   7.,   8.]])"
            ]
          },
          "metadata": {},
          "execution_count": 53
        }
      ],
      "source": [
        "arr2"
      ]
    },
    {
      "cell_type": "code",
      "execution_count": null,
      "metadata": {
        "colab": {
          "base_uri": "https://localhost:8080/"
        },
        "id": "ZAZmXT3Nx4pb",
        "outputId": "7e1a01e2-f839-4557-ae11-d41bcbd77646"
      },
      "outputs": [
        {
          "output_type": "execute_result",
          "data": {
            "text/plain": [
              "array([[101.,   2.],\n",
              "       [  3.,  -1.]])"
            ]
          },
          "metadata": {},
          "execution_count": 54
        }
      ],
      "source": [
        "arr2[:2, :2]"
      ]
    },
    {
      "cell_type": "code",
      "execution_count": null,
      "metadata": {
        "colab": {
          "base_uri": "https://localhost:8080/"
        },
        "id": "BswpJ_zCx4pb",
        "outputId": "5f5e0848-cc6f-4a22-af90-c6ed0a308497"
      },
      "outputs": [
        {
          "output_type": "execute_result",
          "data": {
            "text/plain": [
              "array([[ 3., -1., -1.],\n",
              "       [ 5.,  6.,  7.]])"
            ]
          },
          "metadata": {},
          "execution_count": 55
        }
      ],
      "source": [
        "arr2[1:3, 0:3]"
      ]
    },
    {
      "cell_type": "code",
      "execution_count": null,
      "metadata": {
        "colab": {
          "base_uri": "https://localhost:8080/"
        },
        "id": "rep9hI25x4pc",
        "outputId": "03b6c711-4977-4aeb-98a2-9c54617b3faa"
      },
      "outputs": [
        {
          "output_type": "execute_result",
          "data": {
            "text/plain": [
              "array([[100., 100.,   3.,   4.],\n",
              "       [100., 100.,  -1.,   6.],\n",
              "       [  5.,   6.,   7.,   8.]])"
            ]
          },
          "metadata": {},
          "execution_count": 56
        }
      ],
      "source": [
        "# Assign portion of arr2 to arr2a. Doesn't really create a new array.\n",
        "arr2a = arr2[:2,:2]\n",
        "arr2a[:2, :2] = 100  # 100 will reflect in arr2\n",
        "arr2"
      ]
    },
    {
      "cell_type": "code",
      "execution_count": null,
      "metadata": {
        "colab": {
          "base_uri": "https://localhost:8080/"
        },
        "id": "5Ak_bP3dx4pc",
        "outputId": "908f6b7e-23b9-4835-c2df-3d7795399b9e"
      },
      "outputs": [
        {
          "output_type": "execute_result",
          "data": {
            "text/plain": [
              "array([[100., 100.,   3.,   4.],\n",
              "       [100., 100.,  -1.,   6.],\n",
              "       [  5.,   6.,   7.,   8.]])"
            ]
          },
          "metadata": {},
          "execution_count": 58
        }
      ],
      "source": [
        "# Copy portion of arr2 to arr2b\n",
        "arr2b = arr2[:2, :2].copy()\n",
        "arr2b[:1, :1] = 101  # 101 will not reflect in arr2\n",
        "arr2"
      ]
    },
    {
      "cell_type": "code",
      "execution_count": null,
      "outputs": [
        {
          "output_type": "execute_result",
          "data": {
            "text/plain": [
              "array([[[100., 100.,   3.,   4.],\n",
              "        [100., 100.,  -1.,   6.],\n",
              "        [  5.,   6.,   7.,   8.]]])"
            ]
          },
          "metadata": {},
          "execution_count": 60
        }
      ],
      "source": [
        "# add new dimension\n",
        "arr3d = arr2[np.newaxis,  :, : ]\n",
        "arr3d"
      ],
      "metadata": {
        "colab": {
          "base_uri": "https://localhost:8080/"
        },
        "id": "i5CjwZS9x4pd",
        "outputId": "1349a88e-833f-401a-87a1-d68e40f2410d"
      }
    },
    {
      "cell_type": "code",
      "source": [
        "arr2"
      ],
      "metadata": {
        "colab": {
          "base_uri": "https://localhost:8080/"
        },
        "id": "98e4KHv32_ei",
        "outputId": "1a3c5a0f-91b0-4ae5-fd0f-1f5f60313915"
      },
      "execution_count": null,
      "outputs": [
        {
          "output_type": "execute_result",
          "data": {
            "text/plain": [
              "array([[100., 100.,   3.,   4.],\n",
              "       [100., 100.,  -1.,   6.],\n",
              "       [  5.,   6.,   7.,   8.]])"
            ]
          },
          "metadata": {},
          "execution_count": 142
        }
      ]
    },
    {
      "cell_type": "code",
      "execution_count": null,
      "metadata": {
        "colab": {
          "base_uri": "https://localhost:8080/"
        },
        "id": "zBEfu5QWx4pd",
        "outputId": "45638a1e-29ed-49f4-b149-3221765892da"
      },
      "outputs": [
        {
          "output_type": "execute_result",
          "data": {
            "text/plain": [
              "array([[ True,  True, False, False],\n",
              "       [ True,  True, False,  True],\n",
              "       [ True,  True,  True,  True]])"
            ]
          },
          "metadata": {},
          "execution_count": 143
        }
      ],
      "source": [
        "b = arr2 > 4\n",
        "b"
      ]
    },
    {
      "cell_type": "code",
      "execution_count": null,
      "metadata": {
        "colab": {
          "base_uri": "https://localhost:8080/"
        },
        "id": "Oilbcmbex4pe",
        "outputId": "bddf4ac2-d529-4d3b-f991-51ca709ffdb9"
      },
      "outputs": [
        {
          "output_type": "execute_result",
          "data": {
            "text/plain": [
              "array([100., 100., 100., 100.,   6.,   5.,   6.,   7.,   8.])"
            ]
          },
          "metadata": {},
          "execution_count": 144
        }
      ],
      "source": [
        "arr2[b]"
      ]
    },
    {
      "cell_type": "code",
      "execution_count": null,
      "metadata": {
        "colab": {
          "base_uri": "https://localhost:8080/"
        },
        "id": "f6GxPMyFx4pe",
        "outputId": "43a84b81-5227-4da6-8dbb-e37343522036"
      },
      "outputs": [
        {
          "output_type": "stream",
          "name": "stdout",
          "text": [
            "Array:  [8 8 3 7 7 0 4 2 5 2]\n",
            "Positions where value > 5:  (array([0, 1, 3, 4]),)\n"
          ]
        }
      ],
      "source": [
        "arr_rand = np.array([8, 8, 3, 7, 7, 0, 4, 2, 5, 2])\n",
        "print(\"Array: \", arr_rand)\n",
        "\n",
        "# Positions where value > 5\n",
        "index_gt5 = np.where(arr_rand > 5)\n",
        "print(\"Positions where value > 5: \", index_gt5)"
      ]
    },
    {
      "cell_type": "code",
      "execution_count": null,
      "metadata": {
        "colab": {
          "base_uri": "https://localhost:8080/"
        },
        "id": "DhkK7Wscx4pe",
        "outputId": "f05ec138-0a85-439c-a771-932284df8dde"
      },
      "outputs": [
        {
          "output_type": "execute_result",
          "data": {
            "text/plain": [
              "array([[8, 8, 7, 7]])"
            ]
          },
          "metadata": {},
          "execution_count": 54
        }
      ],
      "source": [
        "# Take items at given index\n",
        "arr_rand.take(index_gt5)"
      ]
    },
    {
      "cell_type": "code",
      "execution_count": null,
      "metadata": {
        "colab": {
          "base_uri": "https://localhost:8080/"
        },
        "id": "hwGX1ts9x4pf",
        "outputId": "a6d68a62-5df3-490c-e5f5-4ce6094b7815"
      },
      "outputs": [
        {
          "output_type": "execute_result",
          "data": {
            "text/plain": [
              "array(['gt5', 'gt5', 'le5', 'gt5', 'gt5', 'le5', 'le5', 'le5', 'le5',\n",
              "       'le5'], dtype='<U3')"
            ]
          },
          "metadata": {},
          "execution_count": 146
        }
      ],
      "source": [
        "# If value > 5, then yield 'gt5' else 'le5'\n",
        "np.where(arr_rand > 5, 'gt5', 'le5')"
      ]
    },
    {
      "cell_type": "code",
      "execution_count": null,
      "metadata": {
        "colab": {
          "base_uri": "https://localhost:8080/"
        },
        "id": "kt6z_nSJx4pg",
        "outputId": "4fb8686b-8647-4e16-e8e7-02408eec4f07"
      },
      "outputs": [
        {
          "output_type": "stream",
          "name": "stdout",
          "text": [
            "Position of max value:  0\n",
            "Position of min value:  5\n"
          ]
        }
      ],
      "source": [
        "# Location of the max\n",
        "print('Position of max value: ', np.argmax(arr_rand))\n",
        "\n",
        "# Location of the min\n",
        "print('Position of min value: ', np.argmin(arr_rand))"
      ]
    },
    {
      "cell_type": "markdown",
      "metadata": {
        "id": "UsBzxezFx4pg"
      },
      "source": [
        "### Reversing"
      ]
    },
    {
      "cell_type": "code",
      "execution_count": null,
      "metadata": {
        "colab": {
          "base_uri": "https://localhost:8080/"
        },
        "id": "c_jqX6WNx4pg",
        "outputId": "7801edc7-bb0e-43f0-9ae4-155f7253fb7c"
      },
      "outputs": [
        {
          "output_type": "execute_result",
          "data": {
            "text/plain": [
              "array([[100., 100.,   3.,   4.],\n",
              "       [100., 100.,  -1.,   6.],\n",
              "       [  5.,   6.,   7.,   8.]])"
            ]
          },
          "metadata": {},
          "execution_count": 148
        }
      ],
      "source": [
        "arr2"
      ]
    },
    {
      "cell_type": "code",
      "execution_count": null,
      "metadata": {
        "colab": {
          "base_uri": "https://localhost:8080/"
        },
        "id": "ljSZhlGax4ph",
        "outputId": "22e56a7e-3308-4555-94ba-bfd791aa422b"
      },
      "outputs": [
        {
          "output_type": "execute_result",
          "data": {
            "text/plain": [
              "array([[  5.,   6.,   7.,   8.],\n",
              "       [100., 100.,  -1.,   6.],\n",
              "       [100., 100.,   3.,   4.]])"
            ]
          },
          "metadata": {},
          "execution_count": 149
        }
      ],
      "source": [
        "# Reverse only the row positions\n",
        "arr2[::-1, ]"
      ]
    },
    {
      "cell_type": "code",
      "execution_count": null,
      "metadata": {
        "colab": {
          "base_uri": "https://localhost:8080/"
        },
        "id": "HeHGwKWIx4ph",
        "outputId": "06a7a73c-869b-4335-ad44-75684a8ca772"
      },
      "outputs": [
        {
          "output_type": "execute_result",
          "data": {
            "text/plain": [
              "array([[  8.,   7.,   6.,   5.],\n",
              "       [  6.,  -1., 100., 100.],\n",
              "       [  4.,   3., 100., 100.]])"
            ]
          },
          "metadata": {},
          "execution_count": 150
        }
      ],
      "source": [
        "# Reverse the row and column positions\n",
        "arr2[::-1, ::-1]"
      ]
    },
    {
      "cell_type": "markdown",
      "metadata": {
        "id": "dahpUNH1x4pi"
      },
      "source": [
        "### Iteration"
      ]
    },
    {
      "cell_type": "code",
      "execution_count": null,
      "metadata": {
        "colab": {
          "base_uri": "https://localhost:8080/"
        },
        "id": "HVEjezMzx4pi",
        "outputId": "13f67c17-5e4f-46cd-a1f6-a6035e5e3518"
      },
      "outputs": [
        {
          "output_type": "stream",
          "name": "stdout",
          "text": [
            "[[ 0  5 10 15]\n",
            " [20 25 30 35]\n",
            " [40 45 50 55]]\n",
            "\n",
            "\n",
            "0\n",
            "5\n",
            "10\n",
            "15\n",
            "20\n",
            "25\n",
            "30\n",
            "35\n",
            "40\n",
            "45\n",
            "50\n",
            "55\n"
          ]
        }
      ],
      "source": [
        "a = np.arange(0, 60, 5)\n",
        "a = a.reshape(3, 4)\n",
        "\n",
        "print(a)\n",
        "print('\\n')\n",
        "\n",
        "for x in np.nditer(a):\n",
        "    print(x)"
      ]
    },
    {
      "cell_type": "markdown",
      "metadata": {
        "id": "mB7uY3Uqx4pj"
      },
      "source": [
        "### Sorting"
      ]
    },
    {
      "cell_type": "code",
      "execution_count": null,
      "metadata": {
        "colab": {
          "base_uri": "https://localhost:8080/"
        },
        "id": "Fa7sahI_x4pj",
        "outputId": "d4cccda3-62d4-4c8a-970e-331030c0f4f2"
      },
      "outputs": [
        {
          "output_type": "execute_result",
          "data": {
            "text/plain": [
              "array([[1, 1, 4, 1],\n",
              "       [3, 5, 3, 3],\n",
              "       [3, 3, 2, 1],\n",
              "       [1, 5, 4, 5],\n",
              "       [3, 1, 4, 2],\n",
              "       [3, 4, 5, 5],\n",
              "       [2, 4, 5, 5],\n",
              "       [4, 4, 4, 2]])"
            ]
          },
          "metadata": {},
          "execution_count": 63
        }
      ],
      "source": [
        "np.random.seed(100)\n",
        "arr = np.random.randint(1,6, size=[8, 4])\n",
        "arr"
      ]
    },
    {
      "cell_type": "code",
      "execution_count": null,
      "metadata": {
        "colab": {
          "base_uri": "https://localhost:8080/"
        },
        "id": "qJGBhRa7x4pj",
        "outputId": "e140c78f-304f-4ff3-e1f2-ae9f4bbb9034"
      },
      "outputs": [
        {
          "output_type": "execute_result",
          "data": {
            "text/plain": [
              "array([[1, 1, 2, 1],\n",
              "       [1, 1, 3, 1],\n",
              "       [2, 3, 4, 2],\n",
              "       [3, 4, 4, 2],\n",
              "       [3, 4, 4, 3],\n",
              "       [3, 4, 4, 5],\n",
              "       [3, 5, 5, 5],\n",
              "       [4, 5, 5, 5]])"
            ]
          },
          "metadata": {},
          "execution_count": 64
        }
      ],
      "source": [
        "# Sort each columns of arr\n",
        "np.sort(arr, axis=0)"
      ]
    },
    {
      "cell_type": "code",
      "execution_count": null,
      "metadata": {
        "colab": {
          "base_uri": "https://localhost:8080/"
        },
        "id": "01SObppOx4pk",
        "outputId": "84a5952a-a6ee-461b-f48f-6b39e1fbb50f"
      },
      "outputs": [
        {
          "output_type": "stream",
          "name": "stdout",
          "text": [
            "[0 3 2 4 5 1]\n"
          ]
        }
      ],
      "source": [
        "# Get the index positions that would sort the array\n",
        "x = np.array([1, 10, 5, 2, 8, 9])\n",
        "sort_index = np.argsort(x)\n",
        "print(sort_index)"
      ]
    },
    {
      "cell_type": "code",
      "execution_count": null,
      "metadata": {
        "colab": {
          "base_uri": "https://localhost:8080/"
        },
        "id": "jbZ3HZA7x4pl",
        "outputId": "7c986fe6-436a-4e3e-8e23-e05aee245bc1"
      },
      "outputs": [
        {
          "output_type": "execute_result",
          "data": {
            "text/plain": [
              "array([ 1,  2,  5,  8,  9, 10])"
            ]
          },
          "metadata": {},
          "execution_count": 64
        }
      ],
      "source": [
        "x[sort_index]"
      ]
    },
    {
      "cell_type": "code",
      "execution_count": null,
      "metadata": {
        "colab": {
          "base_uri": "https://localhost:8080/"
        },
        "id": "kKO75A43x4pl",
        "outputId": "d3c8aa5c-f58a-45c6-ce95-b761a6b81638"
      },
      "outputs": [
        {
          "output_type": "execute_result",
          "data": {
            "text/plain": [
              "array([[1, 1, 4, 1],\n",
              "       [1, 5, 4, 5],\n",
              "       [2, 4, 5, 5],\n",
              "       [3, 5, 3, 3],\n",
              "       [3, 3, 2, 1],\n",
              "       [3, 1, 4, 2],\n",
              "       [3, 4, 5, 5],\n",
              "       [4, 4, 4, 2]])"
            ]
          },
          "metadata": {},
          "execution_count": 65
        }
      ],
      "source": [
        "# Argsort the first column\n",
        "sorted_index_1stcol = arr[:, 0].argsort()\n",
        "\n",
        "# Sort 'arr' by first column without disturbing the integrity of rows\n",
        "arr[sorted_index_1stcol]"
      ]
    },
    {
      "cell_type": "code",
      "execution_count": null,
      "metadata": {
        "colab": {
          "base_uri": "https://localhost:8080/"
        },
        "id": "jXafCVpvx4pl",
        "outputId": "73469350-22be-4f1f-ff33-69a222f924a5"
      },
      "outputs": [
        {
          "output_type": "execute_result",
          "data": {
            "text/plain": [
              "array([[4, 4, 4, 2],\n",
              "       [3, 4, 5, 5],\n",
              "       [3, 1, 4, 2],\n",
              "       [3, 3, 2, 1],\n",
              "       [3, 5, 3, 3],\n",
              "       [2, 4, 5, 5],\n",
              "       [1, 5, 4, 5],\n",
              "       [1, 1, 4, 1]])"
            ]
          },
          "metadata": {},
          "execution_count": 66
        }
      ],
      "source": [
        "# Descending sort\n",
        "arr[sorted_index_1stcol[::-1]]"
      ]
    },
    {
      "cell_type": "code",
      "execution_count": null,
      "metadata": {
        "colab": {
          "base_uri": "https://localhost:8080/"
        },
        "id": "X1ZKrvf-x4pm",
        "outputId": "864df518-a7cc-4941-9e8a-bb8a623c14b7"
      },
      "outputs": [
        {
          "output_type": "execute_result",
          "data": {
            "text/plain": [
              "array([[1, 1, 4, 1],\n",
              "       [1, 5, 4, 5],\n",
              "       [2, 4, 5, 5],\n",
              "       [3, 1, 4, 2],\n",
              "       [3, 3, 2, 1],\n",
              "       [3, 4, 5, 5],\n",
              "       [3, 5, 3, 3],\n",
              "       [4, 4, 4, 2]])"
            ]
          },
          "metadata": {},
          "execution_count": 67
        }
      ],
      "source": [
        "# Sort by column 0, then by column 1\n",
        "lexsorted_index = np.lexsort((arr[:, 1], arr[:, 0]))\n",
        "arr[lexsorted_index]"
      ]
    },
    {
      "cell_type": "markdown",
      "metadata": {
        "id": "VFLfubO8x4pm"
      },
      "source": [
        "### mean, min, max"
      ]
    },
    {
      "cell_type": "code",
      "execution_count": null,
      "metadata": {
        "colab": {
          "base_uri": "https://localhost:8080/"
        },
        "id": "6OxA2gx1x4pn",
        "outputId": "5e17300c-ff8a-4af8-a8ab-175f2800261f"
      },
      "outputs": [
        {
          "output_type": "execute_result",
          "data": {
            "text/plain": [
              "array([[100., 100.,   3.,   4.],\n",
              "       [100., 100.,  -1.,   6.],\n",
              "       [  5.,   6.,   7.,   8.]])"
            ]
          },
          "metadata": {},
          "execution_count": 155
        }
      ],
      "source": [
        "arr2"
      ]
    },
    {
      "cell_type": "code",
      "execution_count": null,
      "metadata": {
        "colab": {
          "base_uri": "https://localhost:8080/"
        },
        "id": "OaePYMSmx4pn",
        "outputId": "620ca2ec-4c50-4491-ca3b-23212c061cc6"
      },
      "outputs": [
        {
          "output_type": "stream",
          "name": "stdout",
          "text": [
            "Mean value is:  36.5\n",
            "Max value is:  100.0\n",
            "Min value is:  -1.0\n"
          ]
        }
      ],
      "source": [
        "# mean, max and min\n",
        "print(\"Mean value is: \", arr2.mean())\n",
        "print(\"Max value is: \", arr2.max())\n",
        "print(\"Min value is: \", arr2.min())"
      ]
    },
    {
      "cell_type": "code",
      "execution_count": null,
      "metadata": {
        "colab": {
          "base_uri": "https://localhost:8080/"
        },
        "id": "KE8AqdnBx4po",
        "outputId": "ec197607-2146-4a66-b804-18dd073596bd"
      },
      "outputs": [
        {
          "output_type": "stream",
          "name": "stdout",
          "text": [
            "Column wise minimum:  [ 5.  6. -1.  4.]\n",
            "Row wise minimum:  [ 3. -1.  5.]\n"
          ]
        }
      ],
      "source": [
        "# Row wise and column wise min\n",
        "print(\"Column wise minimum: \", np.amin(arr2, axis=0))\n",
        "print(\"Row wise minimum: \", np.amin(arr2, axis=1))"
      ]
    },
    {
      "cell_type": "markdown",
      "source": [],
      "metadata": {
        "id": "dH1eVXKR5D3Y"
      }
    },
    {
      "cell_type": "code",
      "source": [
        "arr2"
      ],
      "metadata": {
        "colab": {
          "base_uri": "https://localhost:8080/"
        },
        "id": "3lSEZfYX5OXp",
        "outputId": "a5706abf-c467-4c81-f6ec-38ddd439411c"
      },
      "execution_count": null,
      "outputs": [
        {
          "output_type": "execute_result",
          "data": {
            "text/plain": [
              "array([[100., 100.,   3.,   4.],\n",
              "       [100., 100.,  -1.,   6.],\n",
              "       [  5.,   6.,   7.,   8.]])"
            ]
          },
          "metadata": {},
          "execution_count": 157
        }
      ]
    },
    {
      "cell_type": "code",
      "execution_count": null,
      "metadata": {
        "colab": {
          "base_uri": "https://localhost:8080/"
        },
        "id": "j5POtueSx4po",
        "outputId": "a4bae90a-3def-41a7-804d-b0c4fd4ba22c"
      },
      "outputs": [
        {
          "output_type": "execute_result",
          "data": {
            "text/plain": [
              "array([100., 200., 203., 207., 307., 407., 406., 412., 417., 423., 430.,\n",
              "       438.])"
            ]
          },
          "metadata": {},
          "execution_count": 158
        }
      ],
      "source": [
        "# Cumulative Sum\n",
        "np.cumsum(arr2)"
      ]
    },
    {
      "cell_type": "markdown",
      "metadata": {
        "id": "TOvgt_Myx4pp"
      },
      "source": [
        "### Applying functions"
      ]
    },
    {
      "cell_type": "code",
      "execution_count": null,
      "metadata": {
        "colab": {
          "base_uri": "https://localhost:8080/"
        },
        "id": "qrwRgyYBx4pp",
        "outputId": "a2ac18b4-437a-40d9-f6bf-4a5dc75854a8"
      },
      "outputs": [
        {
          "output_type": "stream",
          "name": "stdout",
          "text": [
            "x = 10 returns  5.0\n",
            "x = 11 returns  121\n"
          ]
        }
      ],
      "source": [
        "# Define a scalar function\n",
        "def foo(x):\n",
        "    if x % 2 == 1:\n",
        "        return x**2\n",
        "    else:\n",
        "        return x/2\n",
        "\n",
        "# On a scalar\n",
        "print('x = 10 returns ', foo(10))\n",
        "print('x = 11 returns ', foo(11))\n",
        "\n",
        "# On a vector, doesn't work\n",
        "#print('x = [10, 11, 12] returns ', foo([10, 11, 12]))  # Error"
      ]
    },
    {
      "cell_type": "code",
      "execution_count": null,
      "metadata": {
        "colab": {
          "base_uri": "https://localhost:8080/"
        },
        "id": "JaJu9YK7x4pq",
        "outputId": "d788ab9c-6e53-4946-d242-2d3befd1aa98"
      },
      "outputs": [
        {
          "output_type": "stream",
          "name": "stdout",
          "text": [
            "x = [10, 11, 12] returns  [  5. 121.   6.]\n",
            "x = [[10, 11, 12], [1, 2, 3]] returns  [[  5. 121.   6.]\n",
            " [  1.   1.   9.]]\n"
          ]
        }
      ],
      "source": [
        "# Vectorize foo(). Make it work on vectors.\n",
        "foo_v = np.vectorize(foo, otypes=[float])\n",
        "\n",
        "print('x = [10, 11, 12] returns ', foo_v([10, 11, 12]))\n",
        "print('x = [[10, 11, 12], [1, 2, 3]] returns ', foo_v([[10, 11, 12], [1, 2, 3]]))"
      ]
    },
    {
      "cell_type": "code",
      "execution_count": null,
      "metadata": {
        "colab": {
          "base_uri": "https://localhost:8080/"
        },
        "id": "UCN5XpFnx4pr",
        "outputId": "5089a727-c7df-46b1-8104-54e1311e3f4a"
      },
      "outputs": [
        {
          "output_type": "execute_result",
          "data": {
            "text/plain": [
              "array([[9, 9, 4, 8, 8, 1, 5, 3, 6, 3],\n",
              "       [3, 3, 2, 1, 9, 5, 1, 7, 3, 5],\n",
              "       [2, 6, 4, 5, 5, 4, 8, 2, 2, 8],\n",
              "       [8, 1, 3, 4, 3, 6, 9, 2, 1, 8]])"
            ]
          },
          "metadata": {},
          "execution_count": 75
        }
      ],
      "source": [
        "# Create a 4x10 random array\n",
        "np.random.seed(100)\n",
        "arr_x = np.random.randint(1,10,size=[4,10])\n",
        "arr_x"
      ]
    },
    {
      "cell_type": "code",
      "execution_count": null,
      "outputs": [
        {
          "output_type": "stream",
          "name": "stdout",
          "text": [
            "Row wise:  [8 8 6 8]\n",
            "Column wise:  [7 8 2 7 6 5 8 5 5 5]\n"
          ]
        }
      ],
      "source": [
        "# Define func1d\n",
        "def max_minus_min(x):\n",
        "    return np.max(x) - np.min(x)\n",
        "\n",
        "# Apply along the rows\n",
        "print('Row wise: ', np.apply_along_axis(max_minus_min, 1, arr=arr_x))\n",
        "\n",
        "# Apply along the columns\n",
        "print('Column wise: ', np.apply_along_axis(max_minus_min, 0, arr=arr_x))"
      ],
      "metadata": {
        "colab": {
          "base_uri": "https://localhost:8080/"
        },
        "id": "xv6XxZYsx4pr",
        "outputId": "33d7ebd3-150d-4866-f4d3-9a1559810e15"
      }
    },
    {
      "cell_type": "code",
      "execution_count": null,
      "outputs": [],
      "source": [
        "def max_minus_min_fast(x, axis):\n",
        "    return x.max(axis=axis) - x.min(axis=axis)"
      ],
      "metadata": {
        "id": "jlbRqC3vx4pr"
      }
    },
    {
      "cell_type": "code",
      "execution_count": null,
      "outputs": [
        {
          "output_type": "stream",
          "name": "stdout",
          "text": [
            "Row wise:  [8 8 6 8]\n",
            "Column wise:  [7 8 2 7 6 5 8 5 5 5]\n"
          ]
        }
      ],
      "source": [
        "# Apply along the rows\n",
        "print('Row wise: ', max_minus_min_fast(arr_x, 1))\n",
        "\n",
        "# Apply along the columns\n",
        "print('Column wise: ', max_minus_min_fast(arr_x, 0))"
      ],
      "metadata": {
        "colab": {
          "base_uri": "https://localhost:8080/"
        },
        "id": "uC0TnwJxx4ps",
        "outputId": "0d0cf6a3-08fd-4539-9873-afb314ac8562"
      }
    },
    {
      "cell_type": "code",
      "execution_count": null,
      "outputs": [
        {
          "output_type": "stream",
          "name": "stdout",
          "text": [
            "123 µs ± 12.7 µs per loop (mean ± std. dev. of 7 runs, 10000 loops each)\n"
          ]
        }
      ],
      "source": [
        "%timeit np.apply_along_axis(max_minus_min, 1, arr=arr_x)"
      ],
      "metadata": {
        "colab": {
          "base_uri": "https://localhost:8080/"
        },
        "id": "58lEGM6rx4ps",
        "outputId": "afb36778-40bf-4f7e-e7c9-eb1de311233a"
      }
    },
    {
      "cell_type": "code",
      "execution_count": null,
      "outputs": [
        {
          "output_type": "stream",
          "name": "stdout",
          "text": [
            "5.68 µs ± 211 ns per loop (mean ± std. dev. of 7 runs, 100000 loops each)\n"
          ]
        }
      ],
      "source": [
        "%timeit max_minus_min_fast(arr_x, 1)"
      ],
      "metadata": {
        "colab": {
          "base_uri": "https://localhost:8080/"
        },
        "id": "11g_J2iCx4pt",
        "outputId": "7e192d02-8cb7-45bf-eb48-d8afe5bf6fea"
      }
    },
    {
      "cell_type": "markdown",
      "source": [
        "# Linear algebra"
      ],
      "metadata": {
        "collapsed": false,
        "id": "KHkaeslwx4pt"
      }
    },
    {
      "cell_type": "code",
      "execution_count": null,
      "outputs": [
        {
          "output_type": "execute_result",
          "data": {
            "text/plain": [
              "array([[100., 100.,   3.,   4.],\n",
              "       [100., 100.,  -1.,   6.],\n",
              "       [  5.,   6.,   7.,   8.]])"
            ]
          },
          "metadata": {},
          "execution_count": 81
        }
      ],
      "source": [
        "arr2"
      ],
      "metadata": {
        "colab": {
          "base_uri": "https://localhost:8080/"
        },
        "id": "ZVnwQPd7x4pt",
        "outputId": "ca0fe433-5705-45ec-ec42-c4af11252c87"
      }
    },
    {
      "cell_type": "code",
      "execution_count": null,
      "outputs": [
        {
          "output_type": "execute_result",
          "data": {
            "text/plain": [
              "array([[100., 100.,   5.],\n",
              "       [100., 100.,   6.],\n",
              "       [  3.,  -1.,   7.],\n",
              "       [  4.,   6.,   8.]])"
            ]
          },
          "metadata": {},
          "execution_count": 82
        }
      ],
      "source": [
        "arr2.transpose()"
      ],
      "metadata": {
        "colab": {
          "base_uri": "https://localhost:8080/"
        },
        "id": "Vcr3XX2ex4pt",
        "outputId": "fc8ae6d9-ef24-44a8-f1fd-9579abc6ee67"
      }
    },
    {
      "cell_type": "code",
      "execution_count": null,
      "outputs": [
        {
          "output_type": "execute_result",
          "data": {
            "text/plain": [
              "array([[ -4,   0,   2],\n",
              "       [ 14,   5, -23],\n",
              "       [ 13, -11,   0],\n",
              "       [  1,   5,  11]])"
            ]
          },
          "metadata": {},
          "execution_count": 83
        }
      ],
      "source": [
        "arr_tmp = np.array(np.random.randn(4, 3)*10, dtype=np.int64)\n",
        "arr_tmp"
      ],
      "metadata": {
        "colab": {
          "base_uri": "https://localhost:8080/"
        },
        "id": "47U4KZ9px4pu",
        "outputId": "655cfb6f-e8c1-44de-caad-cd7c6a0167d6"
      }
    },
    {
      "cell_type": "code",
      "execution_count": null,
      "outputs": [
        {
          "output_type": "execute_result",
          "data": {
            "text/plain": [
              "array([[ 1043.,   487., -2056.],\n",
              "       [  993.,   541., -2034.],\n",
              "       [  163.,    -7.,   -40.]])"
            ]
          },
          "metadata": {},
          "execution_count": 84
        }
      ],
      "source": [
        "np.dot(arr2, arr_tmp)"
      ],
      "metadata": {
        "colab": {
          "base_uri": "https://localhost:8080/"
        },
        "id": "J6Sijq0Tx4pu",
        "outputId": "367f491f-9c84-48d0-d3e4-1969f3310c08"
      }
    },
    {
      "cell_type": "code",
      "execution_count": null,
      "outputs": [
        {
          "output_type": "execute_result",
          "data": {
            "text/plain": [
              "array([[20015., 20018.,   221.],\n",
              "       [19995., 19994.,   193.],\n",
              "       [ 1135.,  1142.,    58.]])"
            ]
          },
          "metadata": {},
          "execution_count": 85
        }
      ],
      "source": [
        "np.linalg.matrix_power(arr2[:, :3], 2)"
      ],
      "metadata": {
        "colab": {
          "base_uri": "https://localhost:8080/"
        },
        "id": "47agC18Jx4pu",
        "outputId": "4b894cbe-e74d-4bd4-ffcb-c76bfdedc55f"
      }
    },
    {
      "cell_type": "code",
      "execution_count": null,
      "outputs": [
        {
          "output_type": "execute_result",
          "data": {
            "text/plain": [
              "400.0000000000002"
            ]
          },
          "metadata": {},
          "execution_count": 113
        }
      ],
      "source": [
        "np.linalg.det(arr2[:, :3])"
      ],
      "metadata": {
        "colab": {
          "base_uri": "https://localhost:8080/"
        },
        "id": "5CmM2dBRx4pv",
        "outputId": "772681bb-a7bd-4058-a0e3-2bdec337cfbf"
      }
    },
    {
      "cell_type": "code",
      "execution_count": null,
      "outputs": [
        {
          "output_type": "execute_result",
          "data": {
            "text/plain": [
              "(array([200.06,   0.3 ,   6.64]),\n",
              " array([[-0.71, -0.7 ,  0.27],\n",
              "        [-0.71,  0.7 , -0.28],\n",
              "        [-0.04, -0.11,  0.92]]))"
            ]
          },
          "metadata": {},
          "execution_count": 86
        }
      ],
      "source": [
        "np.linalg.eig(arr2[:, :3])"
      ],
      "metadata": {
        "colab": {
          "base_uri": "https://localhost:8080/"
        },
        "id": "e30lUIZUx4pv",
        "outputId": "7e7431f5-fe77-45a5-b050-e8f72fdb6f52"
      }
    },
    {
      "cell_type": "code",
      "execution_count": null,
      "outputs": [],
      "source": [],
      "metadata": {
        "id": "FYvYGt2lx4pv"
      }
    }
  ],
  "metadata": {
    "kernelspec": {
      "display_name": "Python 3",
      "language": "python",
      "name": "python3"
    },
    "language_info": {
      "codemirror_mode": {
        "name": "ipython",
        "version": 3
      },
      "file_extension": ".py",
      "mimetype": "text/x-python",
      "name": "python",
      "nbconvert_exporter": "python",
      "pygments_lexer": "ipython3",
      "version": "3.7.1"
    },
    "colab": {
      "provenance": []
    }
  },
  "nbformat": 4,
  "nbformat_minor": 0
}