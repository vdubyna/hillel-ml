{
 "cells": [
  {
   "metadata": {},
   "cell_type": "markdown",
   "source": [
    "Для датасету https://archive.ics.uci.edu/ml/datasets/Abalone  використати не менше 4 енкодерів для кодування колонки\"Sex\"(стать)\n",
    "Моделі тренувати не потрібно!"
   ],
   "id": "5c237137d534a69f"
  },
  {
   "cell_type": "code",
   "id": "initial_id",
   "metadata": {
    "collapsed": true,
    "ExecuteTime": {
     "end_time": "2024-07-01T15:11:55.260311Z",
     "start_time": "2024-07-01T15:11:54.549677Z"
    }
   },
   "source": [
    "import pandas as pd\n",
    "\n",
    "from sklearn.preprocessing import OneHotEncoder\n",
    "from category_encoders.target_encoder import TargetEncoder\n",
    "from category_encoders.sum_coding import SumEncoder\n",
    "from category_encoders.m_estimate import MEstimateEncoder\n",
    "from category_encoders.helmert import HelmertEncoder\n",
    "from category_encoders.cat_boost import CatBoostEncoder\n",
    "from category_encoders.james_stein import JamesSteinEncoder"
   ],
   "execution_count": 1,
   "outputs": []
  },
  {
   "metadata": {
    "ExecuteTime": {
     "end_time": "2024-07-01T15:11:56.161403Z",
     "start_time": "2024-07-01T15:11:55.261474Z"
    }
   },
   "cell_type": "code",
   "source": "!pip install category_encoders",
   "id": "da94024b986e824",
   "execution_count": 2,
   "outputs": []
  },
  {
   "metadata": {
    "ExecuteTime": {
     "end_time": "2024-07-01T15:11:56.184129Z",
     "start_time": "2024-07-01T15:11:56.163041Z"
    }
   },
   "cell_type": "code",
   "source": [
    "df = pd.read_csv('hw-7/abalone.data')\n",
    "df.columns = [\"Sex\", \"Length\", \"Diameter\", \"Height\", \"Whole\", \"Shucked\", \"Viscera\", \"Shell\", \"Rings\"]\n",
    "df"
   ],
   "id": "40b864c46f0534f1",
   "execution_count": 3,
   "outputs": []
  },
  {
   "metadata": {
    "ExecuteTime": {
     "end_time": "2024-07-01T15:11:56.189954Z",
     "start_time": "2024-07-01T15:11:56.184954Z"
    }
   },
   "cell_type": "code",
   "source": [
    "# Use OneHotEncoder\n",
    "one_hot_enc = OneHotEncoder()\n",
    "# X = [['M', 1], ['F', 2], ['I', 3]]\n",
    "# one_hot_enc.fit(X)\n",
    "one_hot_enc.fit_transform(df[['Sex']])\n",
    "one_hot_enc.categories_"
   ],
   "id": "e1cb86fa760a6810",
   "execution_count": 4,
   "outputs": []
  },
  {
   "metadata": {
    "ExecuteTime": {
     "end_time": "2024-07-01T15:11:56.195356Z",
     "start_time": "2024-07-01T15:11:56.191750Z"
    }
   },
   "cell_type": "code",
   "source": "one_hot_encoded = one_hot_enc.transform(df[['Sex']]).toarray()",
   "id": "8686d96deb70dd17",
   "execution_count": 5,
   "outputs": []
  },
  {
   "metadata": {
    "ExecuteTime": {
     "end_time": "2024-07-01T15:11:56.198596Z",
     "start_time": "2024-07-01T15:11:56.196123Z"
    }
   },
   "cell_type": "code",
   "source": "one_hot_enc.get_feature_names_out(['Sex'])",
   "id": "252e9dab55d0bc43",
   "execution_count": 6,
   "outputs": []
  },
  {
   "metadata": {
    "ExecuteTime": {
     "end_time": "2024-07-01T15:11:56.204592Z",
     "start_time": "2024-07-01T15:11:56.199331Z"
    }
   },
   "cell_type": "code",
   "source": [
    "df_one_hot_encoded = pd.DataFrame(one_hot_encoded, columns=one_hot_enc.get_feature_names_out(['Sex']))\n",
    "df_one_hot_encoded"
   ],
   "id": "9503619fd3f76818",
   "execution_count": 7,
   "outputs": []
  },
  {
   "metadata": {
    "ExecuteTime": {
     "end_time": "2024-07-01T15:11:56.213119Z",
     "start_time": "2024-07-01T15:11:56.205291Z"
    }
   },
   "cell_type": "code",
   "source": [
    "# Add encoded values to original df\n",
    "df = pd.concat([df, df_one_hot_encoded], axis=1)\n",
    "df"
   ],
   "id": "7dfe4430699d8b16",
   "execution_count": 8,
   "outputs": []
  },
  {
   "metadata": {
    "ExecuteTime": {
     "end_time": "2024-07-01T15:11:56.215215Z",
     "start_time": "2024-07-01T15:11:56.213705Z"
    }
   },
   "cell_type": "code",
   "source": "# Label encoder - не підходить як на мене для цієї задачі, оскільки він намагається упорядкувати значення від 0 до 1",
   "id": "af2c080ee3df095d",
   "execution_count": 9,
   "outputs": []
  },
  {
   "metadata": {
    "ExecuteTime": {
     "end_time": "2024-07-01T15:11:56.228932Z",
     "start_time": "2024-07-01T15:11:56.215877Z"
    }
   },
   "cell_type": "code",
   "source": [
    "# Sum encoder\n",
    "sum_enc = SumEncoder(cols=['Sex'])\n",
    "\n",
    "# Fit and transform the 'Sex' column\n",
    "df_sum_encoded = sum_enc.fit_transform(df[['Sex']], df['Rings'])\n",
    "df_sum_encoded\n",
    "# TODO review intercept column and warnings"
   ],
   "id": "9de3531bd7d94da2",
   "execution_count": 10,
   "outputs": []
  },
  {
   "metadata": {
    "ExecuteTime": {
     "end_time": "2024-07-01T15:11:56.240938Z",
     "start_time": "2024-07-01T15:11:56.229785Z"
    }
   },
   "cell_type": "code",
   "source": [
    "helmert_enc = HelmertEncoder(cols=['Sex'])  # OHE and Sum Encoding.\n",
    "df_helmert_encoded = helmert_enc.fit_transform(df[['Sex']], df['Rings'])\n",
    "df_helmert_encoded"
   ],
   "id": "3aeff2526f477923",
   "execution_count": 11,
   "outputs": []
  },
  {
   "metadata": {
    "ExecuteTime": {
     "end_time": "2024-07-01T15:11:56.251237Z",
     "start_time": "2024-07-01T15:11:56.241793Z"
    }
   },
   "cell_type": "code",
   "source": [
    "target_enc = TargetEncoder()\n",
    "df_target_encoded = target_enc.fit_transform(df[['Sex']], df['Rings'])\n",
    "df_target_encoded\n",
    "# TODO IT is not clear how calculations works exactly, review it later"
   ],
   "id": "9f98c67fb96ed8ee",
   "execution_count": 12,
   "outputs": []
  },
  {
   "metadata": {
    "ExecuteTime": {
     "end_time": "2024-07-01T15:11:56.260716Z",
     "start_time": "2024-07-01T15:11:56.252099Z"
    }
   },
   "cell_type": "code",
   "source": [
    "mestimate_enc = MEstimateEncoder()  # Simplified version of Target Encoder\n",
    "df_mestimate_encoded = mestimate_enc.fit_transform(df[['Sex']], df['Rings'])\n",
    "df_mestimate_encoded"
   ],
   "id": "757812cf21b05773",
   "execution_count": 13,
   "outputs": []
  },
  {
   "metadata": {
    "ExecuteTime": {
     "end_time": "2024-07-01T15:11:56.264237Z",
     "start_time": "2024-07-01T15:11:56.262862Z"
    }
   },
   "cell_type": "code",
   "source": "# WOE_encoder - тільки для бінарної класифікації. Не підходить",
   "id": "c9ddb522c58fdd8",
   "execution_count": 14,
   "outputs": []
  },
  {
   "metadata": {
    "ExecuteTime": {
     "end_time": "2024-07-01T15:11:56.274304Z",
     "start_time": "2024-07-01T15:11:56.264727Z"
    }
   },
   "cell_type": "code",
   "source": [
    "jse_enc = JamesSteinEncoder()\n",
    "df_jse_encoded = jse_enc.fit_transform(df[['Sex']], df['Rings'])\n",
    "df_jse_encoded\n",
    "# TODO looks very similar to Target encoder "
   ],
   "id": "a291d672fc32df74",
   "execution_count": 15,
   "outputs": []
  },
  {
   "metadata": {
    "ExecuteTime": {
     "end_time": "2024-07-01T15:11:56.283039Z",
     "start_time": "2024-07-01T15:11:56.274935Z"
    }
   },
   "cell_type": "code",
   "source": [
    "cbe_enc = CatBoostEncoder()\n",
    "df_cbe_encoded = cbe_enc.fit_transform(df[['Sex']], df['Rings'])\n",
    "df_cbe_encoded"
   ],
   "id": "d88b97d727df3f8c",
   "execution_count": 16,
   "outputs": []
  },
  {
   "metadata": {
    "ExecuteTime": {
     "end_time": "2024-07-01T15:11:56.293026Z",
     "start_time": "2024-07-01T15:11:56.283576Z"
    }
   },
   "cell_type": "code",
   "source": [
    "# Review how dummies work wit Sex\n",
    "df_dummy_encoded = pd.get_dummies(df[['Sex']], columns=['Sex'], drop_first=True, prefix='DSex')\n",
    "df = pd.concat([df, df_dummy_encoded], axis=1)\n",
    "df"
   ],
   "id": "2af8cd67d09bd274",
   "execution_count": 17,
   "outputs": []
  }
 ],
 "metadata": {
  "kernelspec": {
   "display_name": "Python 3",
   "language": "python",
   "name": "python3"
  },
  "language_info": {
   "codemirror_mode": {
    "name": "ipython",
    "version": 2
   },
   "file_extension": ".py",
   "mimetype": "text/x-python",
   "name": "python",
   "nbconvert_exporter": "python",
   "pygments_lexer": "ipython2",
   "version": "2.7.6"
  }
 },
 "nbformat": 4,
 "nbformat_minor": 5
}
