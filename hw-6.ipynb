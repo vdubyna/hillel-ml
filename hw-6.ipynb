{
 "cells": [
  {
   "metadata": {},
   "cell_type": "markdown",
   "source": [
    "ДЗ 6. Metric model (regression)\n",
    "Для датасету https://archive.ics.uci.edu/ml/datasets/Abalone побудувати метричну модель регресії\n",
    "Таргет - вік (кількість кілець)\n",
    "Додатково: класифікація, таргет - стать (infant, male, female)"
   ],
   "id": "1d3aafc16c003882"
  },
  {
   "cell_type": "code",
   "id": "initial_id",
   "metadata": {
    "collapsed": true,
    "ExecuteTime": {
     "end_time": "2024-07-06T13:44:27.464411Z",
     "start_time": "2024-07-06T13:44:27.335852Z"
    }
   },
   "source": [
    "import pandas as pd\n",
    "import matplotlib.pyplot as plt\n",
    "import seaborn as sns\n",
    "from sklearn.linear_model import LogisticRegression, LinearRegression, ElasticNet\n",
    "from sklearn.metrics import mean_squared_error, r2_score, mean_absolute_error, accuracy_score, classification_report\n",
    "from sklearn.model_selection import train_test_split, GridSearchCV\n",
    "from sklearn.preprocessing import OneHotEncoder, StandardScaler, PolynomialFeatures, LabelEncoder"
   ],
   "execution_count": 1,
   "outputs": []
  },
  {
   "metadata": {
    "ExecuteTime": {
     "end_time": "2024-07-06T13:44:27.480513Z",
     "start_time": "2024-07-06T13:44:27.465149Z"
    }
   },
   "cell_type": "code",
   "source": [
    "df = pd.read_csv('hw-6/abalone/abalone.data')\n",
    "df.columns = ['Sex', 'Length', 'Diam', 'Height', 'Whole', 'Shucked', 'Viscera', 'Shell', 'Rings']\n",
    "# Rings - is Target\n",
    "df"
   ],
   "id": "f25b90fbba73d360",
   "execution_count": 2,
   "outputs": []
  },
  {
   "metadata": {
    "ExecuteTime": {
     "end_time": "2024-07-06T13:44:27.483865Z",
     "start_time": "2024-07-06T13:44:27.481289Z"
    }
   },
   "cell_type": "code",
   "source": "df.dtypes\n",
   "id": "6002ee8565e670bd",
   "execution_count": 3,
   "outputs": []
  },
  {
   "metadata": {
    "ExecuteTime": {
     "end_time": "2024-07-06T13:44:27.486458Z",
     "start_time": "2024-07-06T13:44:27.484593Z"
    }
   },
   "cell_type": "code",
   "source": [
    "# Визначаємо категоріальні і числові фічі\n",
    "num_features = ['Length', 'Diam', 'Height', 'Whole', 'Shucked', 'Viscera', 'Shell']\n",
    "cat_features = ['Sex']"
   ],
   "id": "2927622b97293f93",
   "execution_count": 4,
   "outputs": []
  },
  {
   "metadata": {
    "ExecuteTime": {
     "end_time": "2024-07-06T13:44:27.489308Z",
     "start_time": "2024-07-06T13:44:27.487044Z"
    }
   },
   "cell_type": "code",
   "source": [
    "# Виводимо target окремо \n",
    "X_reg = df.drop(['Rings'], axis=1)\n",
    "y_reg = df['Rings']"
   ],
   "id": "58d4a0015420a2c4",
   "execution_count": 5,
   "outputs": []
  },
  {
   "metadata": {
    "ExecuteTime": {
     "end_time": "2024-07-06T13:44:27.500893Z",
     "start_time": "2024-07-06T13:44:27.490017Z"
    }
   },
   "cell_type": "code",
   "source": [
    "# Енкодимо категоріальні фічі та масштабуємо числові\n",
    "onehot_encoder = OneHotEncoder()\n",
    "cat_encoded = onehot_encoder.fit_transform(X_reg[cat_features]).toarray()\n",
    "cat_encoded_df = pd.DataFrame(cat_encoded, columns=onehot_encoder.get_feature_names_out(cat_features))\n",
    "scaler = StandardScaler()\n",
    "num_scaled = scaler.fit_transform(X_reg[num_features])\n",
    "num_scaled_df = pd.DataFrame(num_scaled, columns=num_features)\n",
    "\n",
    "# Об'єднання закодованих категоріальних і масштабованих числових колонок\n",
    "X_reg = pd.concat([cat_encoded_df, num_scaled_df], axis=1)\n",
    "\n",
    "# Виведення результату\n",
    "X_reg"
   ],
   "id": "494c75d3bdd1e438",
   "execution_count": 6,
   "outputs": []
  },
  {
   "metadata": {
    "ExecuteTime": {
     "end_time": "2024-07-06T13:44:27.504610Z",
     "start_time": "2024-07-06T13:44:27.501635Z"
    }
   },
   "cell_type": "code",
   "source": [
    "# Розподіл даних на тренувальну та тестову вибірки\n",
    "X_train_reg, X_test_reg, y_train_reg, y_test_reg = train_test_split(X_reg, y_reg, test_size=0.2, random_state=42)"
   ],
   "id": "b5c41c130d84247e",
   "execution_count": 7,
   "outputs": []
  },
  {
   "metadata": {
    "ExecuteTime": {
     "end_time": "2024-07-06T13:44:27.511771Z",
     "start_time": "2024-07-06T13:44:27.505417Z"
    }
   },
   "cell_type": "code",
   "source": [
    "# Побудова моделі регресії\n",
    "reg_model = LinearRegression()\n",
    "reg_model.fit(X_train_reg, y_train_reg)\n",
    "y_pred_reg = reg_model.predict(X_test_reg)\n",
    "\n",
    "# Оцінка моделі регресії\n",
    "mse = mean_squared_error(y_test_reg, y_pred_reg)\n",
    "r2 = r2_score(y_test_reg, y_pred_reg)\n",
    "mae = mean_absolute_error(y_test_reg, y_pred_reg)\n",
    "rmse = mean_squared_error(y_test_reg, y_pred_reg)\n",
    "\n",
    "print(f'Mean Squared Error: {mse}')\n",
    "print(f'R^2 Score: {r2}')\n",
    "print(f'Mean Absolute Error: {mae}')\n",
    "print(f'Root Mean Squared Error: {rmse}')"
   ],
   "id": "8c722fb52123b6f0",
   "execution_count": 8,
   "outputs": []
  },
  {
   "metadata": {
    "ExecuteTime": {
     "end_time": "2024-07-06T13:44:27.540528Z",
     "start_time": "2024-07-06T13:44:27.513957Z"
    }
   },
   "cell_type": "code",
   "source": [
    "# Класифікація статі\n",
    "X_clf = df.drop(['Sex', 'Rings'], axis=1)\n",
    "y_clf = df['Sex']\n",
    "\n",
    "# Кодування цільової змінної\n",
    "label_encoder = LabelEncoder()\n",
    "y_clf = label_encoder.fit_transform(y_clf)\n",
    "\n",
    "# Масштабуємо числові, оскільки вік ніяк не впливає на стать то ми робимо це для всіх\n",
    "scaler = StandardScaler()\n",
    "X_clf = scaler.fit_transform(X_clf)\n",
    "\n",
    "# Розподіл даних на тренувальну та тестову вибірки\n",
    "X_train_clf, X_test_clf, y_train_clf, y_test_clf = train_test_split(X_clf, y_clf, test_size=0.2, random_state=42)\n",
    "\n",
    "# Побудова моделі класифікації\n",
    "clf_model = LogisticRegression(max_iter=10000)\n",
    "clf_model.fit(X_train_clf, y_train_clf)\n",
    "y_pred_clf = clf_model.predict(X_test_clf)\n",
    "\n",
    "# Оцінка моделі класифікації\n",
    "accuracy = accuracy_score(y_test_clf, y_pred_clf)\n",
    "report = classification_report(y_test_clf, y_pred_clf, target_names=label_encoder.classes_)\n",
    "\n",
    "print(f'Accuracy: {accuracy}')\n",
    "print(f'Classification Report:\\n{report}')"
   ],
   "id": "ba04a593e6f86b55",
   "execution_count": 9,
   "outputs": []
  },
  {
   "metadata": {
    "ExecuteTime": {
     "end_time": "2024-07-06T13:44:27.702076Z",
     "start_time": "2024-07-06T13:44:27.541367Z"
    }
   },
   "cell_type": "code",
   "source": [
    "# Результати не дуже тому вирішив глянути на фічі ще раз \n",
    "\n",
    "# Compute the correlation matrix\n",
    "corr_matrix = df[num_features].corr()\n",
    "print(corr_matrix)\n",
    "# Plot the heatmap\n",
    "plt.figure(figsize=(10, 8))\n",
    "sns.heatmap(corr_matrix, annot=True, fmt=\".2f\", cmap='coolwarm')\n",
    "plt.title('Correlation Matrix')\n",
    "plt.show()"
   ],
   "id": "7ca22959b3b78871",
   "execution_count": 10,
   "outputs": []
  },
  {
   "metadata": {
    "ExecuteTime": {
     "end_time": "2024-07-06T13:44:32.303842Z",
     "start_time": "2024-07-06T13:44:27.703149Z"
    }
   },
   "cell_type": "code",
   "source": [
    "sns.pairplot(df, diag_kind='kde', plot_kws={'alpha':0.5})\n",
    "plt.title('Pair Plot of Features')\n",
    "plt.show()"
   ],
   "id": "adb4cba190e3115f",
   "execution_count": 11,
   "outputs": []
  },
  {
   "metadata": {
    "ExecuteTime": {
     "end_time": "2024-07-06T13:44:32.461051Z",
     "start_time": "2024-07-06T13:44:32.304525Z"
    }
   },
   "cell_type": "code",
   "source": [
    "plt.figure(figsize=(12, 6))\n",
    "sns.boxplot(data=df, palette='Set2')\n",
    "plt.title('Box Plot of Features')\n",
    "plt.xticks(rotation=90)\n",
    "plt.show()"
   ],
   "id": "6c0fbcb5b231cf4c",
   "execution_count": 12,
   "outputs": []
  },
  {
   "metadata": {
    "ExecuteTime": {
     "end_time": "2024-07-06T13:44:33.423929Z",
     "start_time": "2024-07-06T13:44:32.461904Z"
    }
   },
   "cell_type": "code",
   "source": [
    "for column in df.columns:\n",
    "    plt.figure(figsize=(8, 4))\n",
    "    sns.histplot(df[column], kde=True)\n",
    "    plt.title(f'Distribution of {column}')\n",
    "    plt.show()"
   ],
   "id": "a138c63fe317727c",
   "execution_count": 13,
   "outputs": []
  },
  {
   "metadata": {
    "ExecuteTime": {
     "end_time": "2024-07-06T13:44:33.717794Z",
     "start_time": "2024-07-06T13:44:33.424696Z"
    }
   },
   "cell_type": "code",
   "source": [
    "# Проба побудови моделі з тюнінгом гіперпараметрів за допомогод GridSearchCv\n",
    "# Define the ElasticNet model\n",
    "elastic_net = ElasticNet()\n",
    "\n",
    "# Define the hyperparameters grid\n",
    "param_grid = {\n",
    "    'alpha': [0.01, 0.1, 1.0, 10.0, 100.0],  # Regularization strength\n",
    "    'l1_ratio': [0.1, 0.3, 0.5, 0.7, 0.9]   # Mix ratio between L1 and L2 penalty\n",
    "}\n",
    "\n",
    "# Setup the GridSearchCV\n",
    "grid_search = GridSearchCV(estimator=elastic_net, param_grid=param_grid, cv=5, scoring='r2')\n",
    "\n",
    "# Fit the model\n",
    "grid_search.fit(X_train_reg, y_train_reg)\n",
    "\n",
    "# Best parameters found by GridSearchCV\n",
    "best_params = grid_search.best_params_\n",
    "print(f\"Best parameters found: {best_params}\")\n",
    "\n",
    "# Evaluate the best model\n",
    "best_model = grid_search.best_estimator_\n",
    "y_pred_reg = best_model.predict(X_test_reg)\n",
    "\n",
    "# Evaluate the model\n",
    "mse = mean_squared_error(y_test_reg, y_pred_reg)\n",
    "r2 = r2_score(y_test_reg, y_pred_reg)\n",
    "mae = mean_absolute_error(y_test_reg, y_pred_reg)\n",
    "rmse = mean_squared_error(y_test_reg, y_pred_reg)\n",
    "\n",
    "print(\"ElasticNet Regression with GridSearchCV:\")\n",
    "print(f'Mean Squared Error: {mse}')\n",
    "print(f'R^2 Score: {r2}')\n",
    "print(f'Mean Absolute Error: {mae}')\n",
    "print(f'Root Mean Squared Error: {rmse}')"
   ],
   "id": "767afb12119fa58",
   "execution_count": 14,
   "outputs": []
  },
  {
   "metadata": {
    "ExecuteTime": {
     "end_time": "2024-07-06T13:44:33.736053Z",
     "start_time": "2024-07-06T13:44:33.718646Z"
    }
   },
   "cell_type": "code",
   "source": [
    "# Результат трохи кращий але все ще не дуже \n",
    "# Перевіряю чи можуть Polynominal Features дати кращі результати\n",
    "poly = PolynomialFeatures(degree=2)\n",
    "X_train_poly = poly.fit_transform(X_train_reg)\n",
    "X_test_poly = poly.transform(X_test_reg)\n",
    "\n",
    "reg_model_poly = LinearRegression()\n",
    "reg_model_poly.fit(X_train_poly, y_train_reg)\n",
    "y_pred_poly = reg_model_poly.predict(X_test_poly)\n",
    "\n",
    "r2_poly = r2_score(y_test_reg, y_pred_poly)\n",
    "print(f'R^2 Score with Polynomial Features: {r2_poly}')"
   ],
   "id": "9d8ce4fc0b76dee8",
   "execution_count": 15,
   "outputs": []
  },
  {
   "metadata": {
    "ExecuteTime": {
     "end_time": "2024-07-06T13:44:33.738559Z",
     "start_time": "2024-07-06T13:44:33.736899Z"
    }
   },
   "cell_type": "code",
   "source": [
    "# Отже найбільший приріст дає використання Polynomial Features\n",
    "# Загалом думаю результат можна покращити якщо подумати як вирішити питання залежних фіч типу висоти і ширини"
   ],
   "id": "d698bfca8e37d488",
   "execution_count": 16,
   "outputs": []
  },
  {
   "metadata": {
    "ExecuteTime": {
     "end_time": "2024-07-06T13:44:33.740723Z",
     "start_time": "2024-07-06T13:44:33.739250Z"
    }
   },
   "cell_type": "code",
   "source": "",
   "id": "d80c1dfecc4dec17",
   "execution_count": 16,
   "outputs": []
  }
 ],
 "metadata": {
  "kernelspec": {
   "display_name": "Python 3",
   "language": "python",
   "name": "python3"
  },
  "language_info": {
   "codemirror_mode": {
    "name": "ipython",
    "version": 2
   },
   "file_extension": ".py",
   "mimetype": "text/x-python",
   "name": "python",
   "nbconvert_exporter": "python",
   "pygments_lexer": "ipython2",
   "version": "2.7.6"
  }
 },
 "nbformat": 4,
 "nbformat_minor": 5
}
