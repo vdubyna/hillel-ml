{
 "nbformat": 4,
 "nbformat_minor": 0,
 "metadata": {
  "colab": {
   "provenance": []
  },
  "kernelspec": {
   "name": "python3",
   "display_name": "Python 3"
  },
  "language_info": {
   "name": "python"
  }
 },
 "cells": [
  {
   "cell_type": "code",
   "execution_count": null,
   "metadata": {
    "id": "_CxrninI9ThF"
   },
   "source": [
    "from sklearn.model_selection import cross_val_score, train_test_split\n",
    "from sklearn.datasets import make_classification\n",
    "from sklearn.tree import DecisionTreeClassifier\n",
    "from sklearn.ensemble import RandomForestClassifier\n",
    "from sklearn.metrics import classification_report\n",
    "from sklearn.pipeline import make_pipeline\n",
    "from sklearn.svm import LinearSVC\n",
    "from sklearn.linear_model import LogisticRegression\n",
    "from sklearn.preprocessing import StandardScaler\n",
    "from sklearn.ensemble import StackingClassifier\n",
    "from sklearn.ensemble import GradientBoostingClassifier\n",
    "from lightgbm import LGBMClassifier\n",
    "from sklearn import tree"
   ],
   "outputs": []
  },
  {
   "cell_type": "code",
   "source": [
    "#!pip install lightgbm"
   ],
   "metadata": {
    "id": "VrNQNwMzRJ6Z",
    "colab": {
     "base_uri": "https://localhost:8080/"
    },
    "outputId": "6574ad5d-cb7d-4401-e2d4-06fdde44d393"
   },
   "execution_count": null,
   "outputs": []
  },
  {
   "cell_type": "code",
   "source": [
    "X, y = make_classification(n_features=4, random_state=0)\n",
    "X_train, X_test, y_train, y_test = train_test_split(X, y, test_size=0.33, random_state=42)"
   ],
   "metadata": {
    "id": "IsEWOMa5--GC"
   },
   "execution_count": null,
   "outputs": []
  },
  {
   "cell_type": "code",
   "source": [
    "clf = DecisionTreeClassifier(random_state=42, max_depth=6).fit(X_train,y_train)"
   ],
   "metadata": {
    "id": "ZleD1CoH-_WL"
   },
   "execution_count": null,
   "outputs": []
  },
  {
   "cell_type": "code",
   "source": [
    "clf.feature_importances_"
   ],
   "metadata": {
    "colab": {
     "base_uri": "https://localhost:8080/"
    },
    "id": "jgsDmn7l07f1",
    "outputId": "bcb6e80b-9d27-415e-a99f-e9fca086c4cc"
   },
   "execution_count": null,
   "outputs": []
  },
  {
   "cell_type": "code",
   "source": [
    "tree.plot_tree(clf)"
   ],
   "metadata": {
    "colab": {
     "base_uri": "https://localhost:8080/",
     "height": 701
    },
    "id": "5EKKMuV_bdpv",
    "outputId": "73a69b64-32fd-43ff-ae84-d71e331d46d1"
   },
   "execution_count": null,
   "outputs": []
  },
  {
   "cell_type": "code",
   "source": [
    "y_pred = clf.predict(X_test)"
   ],
   "metadata": {
    "id": "rmU8TGRb_HKd"
   },
   "execution_count": null,
   "outputs": []
  },
  {
   "cell_type": "code",
   "source": [
    "list(zip(X_test, y_pred, y_test))"
   ],
   "metadata": {
    "colab": {
     "base_uri": "https://localhost:8080/"
    },
    "id": "fbTZwzFF_n70",
    "outputId": "eeb20167-1d97-4d2b-c22d-55813b053e2d"
   },
   "execution_count": null,
   "outputs": []
  },
  {
   "cell_type": "code",
   "source": [
    "print(classification_report(y_test, y_pred, target_names=[f'class_{i}' for i in range(2)]))"
   ],
   "metadata": {
    "colab": {
     "base_uri": "https://localhost:8080/"
    },
    "id": "kdpLvfcrAlqz",
    "outputId": "6933d8b6-bb9e-4e0a-f486-aa9e55122495"
   },
   "execution_count": null,
   "outputs": []
  },
  {
   "cell_type": "markdown",
   "source": [
    "##Bagging"
   ],
   "metadata": {
    "id": "qjaUYu5UAq4W"
   }
  },
  {
   "cell_type": "code",
   "source": [
    "clf_rf = RandomForestClassifier(max_depth=2, random_state=0).fit(X_test, y_test)"
   ],
   "metadata": {
    "id": "6CXxKef6_pW1"
   },
   "execution_count": null,
   "outputs": []
  },
  {
   "cell_type": "code",
   "source": [
    "y_pred_rf = clf_rf.predict(X_test)"
   ],
   "metadata": {
    "id": "7_kdx4-4ASyl"
   },
   "execution_count": null,
   "outputs": []
  },
  {
   "cell_type": "code",
   "source": [
    "list(zip(X_test, y_pred_rf, y_test))"
   ],
   "metadata": {
    "colab": {
     "base_uri": "https://localhost:8080/"
    },
    "id": "GnJxIfK2Aamz",
    "outputId": "92d89aaf-a21f-498a-e834-d5a28715ab26"
   },
   "execution_count": null,
   "outputs": []
  },
  {
   "cell_type": "code",
   "source": [
    "print(classification_report(y_test, y_pred_rf, target_names=[f'class_{i}' for i in range(2)]))"
   ],
   "metadata": {
    "colab": {
     "base_uri": "https://localhost:8080/"
    },
    "id": "zEQ5OV2gAizz",
    "outputId": "41c1f7f8-33a3-4d8c-db58-75bb3a578a2a"
   },
   "execution_count": null,
   "outputs": []
  },
  {
   "cell_type": "markdown",
   "source": [
    "##Stacking"
   ],
   "metadata": {
    "id": "QRhkqiSNBiYA"
   }
  },
  {
   "cell_type": "code",
   "source": [
    "estimators = [\n",
    "  ('rf', RandomForestClassifier(n_estimators=10, random_state=42)),\n",
    "  ('svr', make_pipeline(StandardScaler(), LinearSVC(random_state=42)))\n",
    "  ]\n",
    "clf_stck = StackingClassifier(estimators=estimators, final_estimator=LogisticRegression())"
   ],
   "metadata": {
    "id": "1mOkMD0sBdMj"
   },
   "execution_count": null,
   "outputs": []
  },
  {
   "cell_type": "code",
   "source": [
    "clf_stck = clf_stck.fit(X_train, y_train)\n"
   ],
   "metadata": {
    "id": "o12pr5KcCfYZ"
   },
   "execution_count": null,
   "outputs": []
  },
  {
   "cell_type": "code",
   "source": [
    "y_pred_stck = clf_stck.predict(X_test)"
   ],
   "metadata": {
    "id": "eHUp7H7-Cmrh"
   },
   "execution_count": null,
   "outputs": []
  },
  {
   "cell_type": "code",
   "source": [
    "print(classification_report(y_test, y_pred_stck, target_names=[f'class_{i}' for i in range(2)]))"
   ],
   "metadata": {
    "colab": {
     "base_uri": "https://localhost:8080/"
    },
    "id": "o-5215UACsTZ",
    "outputId": "ff0329dc-3d7e-459b-b472-316d012d1be0"
   },
   "execution_count": null,
   "outputs": []
  },
  {
   "cell_type": "markdown",
   "source": [
    "##Boosting"
   ],
   "metadata": {
    "id": "JrpzpWuRC1gt"
   }
  },
  {
   "cell_type": "code",
   "source": [
    "clf_gb = GradientBoostingClassifier(n_estimators=100, learning_rate=1.0, max_depth=1, random_state=0).fit(X_train, y_train)"
   ],
   "metadata": {
    "id": "1XQ5WK20CvSh"
   },
   "execution_count": null,
   "outputs": []
  },
  {
   "cell_type": "code",
   "source": [
    "y_pred_gb = clf_gb.predict(X_test)"
   ],
   "metadata": {
    "id": "7SrCID8rDVzB"
   },
   "execution_count": null,
   "outputs": []
  },
  {
   "cell_type": "code",
   "source": [
    "print(classification_report(y_test, y_pred_gb, target_names=[f'class_{i}' for i in range(2)]))"
   ],
   "metadata": {
    "colab": {
     "base_uri": "https://localhost:8080/"
    },
    "id": "4FDAfQmYEZoo",
    "outputId": "f578ba7a-96e3-417b-c5d9-4ed1d8bbe67a"
   },
   "execution_count": null,
   "outputs": []
  },
  {
   "cell_type": "code",
   "source": [
    "clf_lgbm = LGBMClassifier().fit(X_train, y_train)"
   ],
   "metadata": {
    "id": "CiPh3a_7EhD3"
   },
   "execution_count": null,
   "outputs": []
  },
  {
   "cell_type": "code",
   "source": [
    "y_pred_lgbm = clf_lgbm.predict(X_test)"
   ],
   "metadata": {
    "id": "RxoqS3q4R5Cq"
   },
   "execution_count": null,
   "outputs": []
  },
  {
   "cell_type": "code",
   "source": [
    "print(classification_report(y_test, y_pred_lgbm, target_names=[f'class_{i}' for i in range(2)]))"
   ],
   "metadata": {
    "colab": {
     "base_uri": "https://localhost:8080/"
    },
    "id": "tM83d9L6R9i6",
    "outputId": "03a6fa8f-0302-4d65-add2-63560974aef3"
   },
   "execution_count": null,
   "outputs": []
  },
  {
   "cell_type": "code",
   "source": [],
   "metadata": {
    "id": "bvBK1c1iSAgq"
   },
   "execution_count": null,
   "outputs": []
  }
 ]
}
