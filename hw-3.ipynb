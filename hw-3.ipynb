{
 "cells": [
  {
   "cell_type": "markdown",
   "metadata": {},
   "source": "# <center>Домашнє завдання № 1 (демо).<br> Аналіз даних доходів населення UCI Adult</center>"
  },
  {
   "cell_type": "markdown",
   "metadata": {},
   "source": "**В завданні пропонується за допомогою Pandas дати відповідь на кілька запитань по даним репозиторія UCI [Adult](https://archive.ics.uci.edu/ml/datasets/Adult).**"
  },
  {
   "cell_type": "markdown",
   "metadata": {},
   "source": [
    "Унікальні значення ознак:\n",
    "- age: continuous.\n",
    "- workclass: Private, Self-emp-not-inc, Self-emp-inc, Federal-gov, Local-gov, State-gov, Without-pay, Never-worked.\n",
    "- fnlwgt: continuous.\n",
    "- education: Bachelors, Some-college, 11th, HS-grad, Prof-school, Assoc-acdm, Assoc-voc, 9th, 7th-8th, 12th, Masters, 1st-4th, 10th, Doctorate, 5th-6th, Preschool.\n",
    "- education-num: continuous.\n",
    "- marital-status: Married-civ-spouse, Divorced, Never-married, Separated, Widowed, Married-spouse-absent, Married-AF-spouse.\n",
    "- occupation: Tech-support, Craft-repair, Other-service, Sales, Exec-managerial, Prof-specialty, Handlers-cleaners, Machine-op-inspct, Adm-clerical, Farming-fishing, Transport-moving, Priv-house-serv, Protective-serv, Armed-Forces.\n",
    "- relationship: Wife, Own-child, Husband, Not-in-family, Other-relative, Unmarried.\n",
    "- race: White, Asian-Pac-Islander, Amer-Indian-Eskimo, Other, Black.\n",
    "- sex: Female, Male.\n",
    "- capital-gain: continuous.\n",
    "- capital-loss: continuous.\n",
    "- hours-per-week: continuous.\n",
    "- native-country: United-States, Cambodia, England, Puerto-Rico, Canada, Germany, Outlying-US(Guam-USVI-etc), India, Japan, Greece, South, China, Cuba, Iran, Honduras, Philippines, Italy, Poland, Jamaica, Vietnam, Mexico, Portugal, Ireland, France, Dominican-Republic, Laos, Ecuador, Taiwan, Haiti, Columbia, Hungary, Guatemala, Nicaragua, Scotland, Thailand, Yugoslavia, El-Salvador, Trinadad&Tobago, Peru, Hong, Holand-Netherlands.   \n",
    "- salary: >50K,<=50K"
   ]
  },
  {
   "cell_type": "code",
   "metadata": {
    "ExecuteTime": {
     "end_time": "2024-06-17T20:35:18.557131Z",
     "start_time": "2024-06-17T20:35:18.182944Z"
    }
   },
   "source": [
    "import pandas as pd\n",
    "import numpy as np"
   ],
   "execution_count": 1,
   "outputs": []
  },
  {
   "cell_type": "code",
   "metadata": {
    "ExecuteTime": {
     "end_time": "2024-06-17T20:38:43.215824Z",
     "start_time": "2024-06-17T20:38:41.411168Z"
    }
   },
   "source": [
    "data = pd.read_csv('https://raw.githubusercontent.com/vdubyna/hillel-ml/main/hw-3/adult.data.csv')\n",
    "data.head()"
   ],
   "execution_count": 12,
   "outputs": []
  },
  {
   "cell_type": "markdown",
   "metadata": {},
   "source": "**1. Скільки чоловіків и жінок (ознака *sex*) представлено в цьому наборі даних?**"
  },
  {
   "cell_type": "code",
   "metadata": {
    "collapsed": true,
    "ExecuteTime": {
     "end_time": "2024-06-17T20:35:18.605002Z",
     "start_time": "2024-06-17T20:35:18.601449Z"
    }
   },
   "source": [
    "# Ваш код тут\n",
    "data['sex'].value_counts()"
   ],
   "execution_count": 3,
   "outputs": []
  },
  {
   "cell_type": "markdown",
   "metadata": {},
   "source": "**2. Який середній вік (ознака *age*) жінок?**"
  },
  {
   "cell_type": "code",
   "metadata": {
    "collapsed": true,
    "ExecuteTime": {
     "end_time": "2024-06-17T20:35:18.611419Z",
     "start_time": "2024-06-17T20:35:18.605810Z"
    }
   },
   "source": [
    "# Ваш код тут\n",
    "data[data['sex'] == 'Female']['age'].mean()"
   ],
   "execution_count": 4,
   "outputs": []
  },
  {
   "cell_type": "markdown",
   "metadata": {},
   "source": "**3. Яка доля громадян Німеччини (ознака *native-country*)?**"
  },
  {
   "cell_type": "code",
   "metadata": {
    "collapsed": true,
    "ExecuteTime": {
     "end_time": "2024-06-17T20:35:18.619170Z",
     "start_time": "2024-06-17T20:35:18.613044Z"
    }
   },
   "source": [
    "# Ваш код тут\n",
    "germany_percentage1 = data['native-country'].value_counts(normalize=True)['Germany'] * 100\n",
    "print(\"Calc option1: {:.2f}%\".format(germany_percentage1))\n",
    "\n",
    "total = data['native-country'].count()\n",
    "germany = data[data['native-country'] == 'Germany']['native-country'].count()\n",
    "\n",
    "germany_percentage2 = (germany / total) * 100\n",
    "print(\"Calc option2: {:.2f}%\".format(germany_percentage2))\n",
    "\n"
   ],
   "execution_count": 5,
   "outputs": []
  },
  {
   "cell_type": "markdown",
   "metadata": {},
   "source": "**4-5. Які средні значення та средньоквадратичні відхилення віку тих, хто отримує більше 50K на рік (ознака *salary*) і тих, хто отримує менше 50K на рік?**"
  },
  {
   "cell_type": "code",
   "metadata": {
    "collapsed": true,
    "ExecuteTime": {
     "end_time": "2024-06-17T20:35:18.628514Z",
     "start_time": "2024-06-17T20:35:18.619879Z"
    }
   },
   "source": [
    "# Ваш код тут\n",
    "more_than_50k_age = data[data['salary'] == '>50K']['age']\n",
    "mean_more_than_50k = more_than_50k_age.mean()\n",
    "std_dev_more_than_50k = more_than_50k_age.std()\n",
    "\n",
    "less_than_50k_age = data[data['salary'] == '<=50K']['age']\n",
    "mean_less_than_50k = less_than_50k_age.mean()\n",
    "std_dev_less_than_50k = less_than_50k_age.std()\n",
    "\n",
    "print('> 50K:')\n",
    "print(f\"Mean age: {mean_more_than_50k:.2f}\")\n",
    "print(f\"Std age: {std_dev_more_than_50k:.2f}\")\n",
    "\n",
    "print('<= 50K:')\n",
    "print(f\"Mean age:', {mean_less_than_50k:.2f}\")\n",
    "print(f\"Std age:', {std_dev_less_than_50k:.2f}\")"
   ],
   "execution_count": 6,
   "outputs": []
  },
  {
   "cell_type": "markdown",
   "metadata": {
    "ExecuteTime": {
     "end_time": "2024-06-17T18:59:08.550348Z",
     "start_time": "2024-06-17T18:59:08.541411Z"
    }
   },
   "source": "**6. Чи правда, що люди, які отримують більше 50k, мають як мінімум вищу освіту? (ознака *education – Bachelors, Prof-school, Assoc-acdm, Assoc-voc, Masters* или *Doctorate*)**"
  },
  {
   "cell_type": "code",
   "metadata": {
    "collapsed": true,
    "ExecuteTime": {
     "end_time": "2024-06-17T20:35:18.634972Z",
     "start_time": "2024-06-17T20:35:18.629143Z"
    }
   },
   "source": [
    "# Ваш код тут\n",
    "high_salary = data[data['salary'] == '>50K']\n",
    "high_educations = ['Bachelors', 'Prof-school', 'Assoc-acdm', 'Assoc-voc', 'Masters', 'Doctorate']\n",
    "\n",
    "education_more_50k_values = high_salary['education'].value_counts()\n",
    "print(education_more_50k_values)\n",
    "\n",
    "high_educated_high_salary = high_salary['education'].isin(high_educations).sum()\n",
    "\n",
    "total_high_salary = high_salary.shape[0]\n",
    "\n",
    "percentage_high_educated_high_salary = (high_educated_high_salary / total_high_salary) * 100\n",
    "\n",
    "print(f\"Percentage of high salary earners with higher education: {percentage_high_educated_high_salary:.2f}%\")"
   ],
   "execution_count": 7,
   "outputs": []
  },
  {
   "cell_type": "markdown",
   "metadata": {},
   "source": "**7. Порахуйте статистику віку для кожної раси (ознака *race*) і кожної статі. Використайте *groupby* и *describe*. Знайдіть таким сином максимальний вік чоловіків раси *Amer-Indian-Eskimo*.**"
  },
  {
   "cell_type": "code",
   "metadata": {
    "collapsed": true,
    "ExecuteTime": {
     "end_time": "2024-06-17T20:35:18.653660Z",
     "start_time": "2024-06-17T20:35:18.635851Z"
    }
   },
   "source": [
    "# Ваш код тут\n",
    "data.groupby(['sex', 'race'])['age'].describe()"
   ],
   "execution_count": 8,
   "outputs": []
  },
  {
   "cell_type": "markdown",
   "metadata": {},
   "source": "**8. Серед кого більша доля багатіших (>50K): серед одружених чи не одружених чоловіків (ознака *marital-status*)? За одружених вважаємо тих, у кого *marital-status* починається із *Married* (Married-civ-spouse, Married-spouse-absent или Married-AF-spouse), всі інші - не одружені.**"
  },
  {
   "cell_type": "code",
   "metadata": {
    "collapsed": true,
    "ExecuteTime": {
     "end_time": "2024-06-17T20:35:18.662762Z",
     "start_time": "2024-06-17T20:35:18.654476Z"
    }
   },
   "source": [
    "# Ваш код тут\n",
    "high_salary = data[data['salary'] == '>50K'].copy()\n",
    "married_statuses = ['Married-civ-spouse', 'Married-spouse-absent', 'Married-AF-spouse']\n",
    "\n",
    "high_salary['is_married'] = high_salary['marital-status'].apply(lambda status: 'Married' if status in married_statuses else 'Not married')\n",
    "\n",
    "high_salary_male = high_salary[high_salary['sex'] == 'Male']\n",
    "total_married = high_salary_male[high_salary_male['is_married'] == 'Married']\n",
    "married_percent = (total_married['is_married'].count() / high_salary_male['is_married'].count()) * 100\n",
    "print(f\"{married_percent:.2f}%\")"
   ],
   "execution_count": 9,
   "outputs": []
  },
  {
   "cell_type": "markdown",
   "metadata": {},
   "source": "**9. Яку максимальну кількість годин в тиждень працює людина (ознака *hours-per-week*)? Скільки людей працюють таку кількість годин і який відсоток серед них багатих?**"
  },
  {
   "cell_type": "code",
   "metadata": {
    "collapsed": true,
    "ExecuteTime": {
     "end_time": "2024-06-17T20:35:18.667123Z",
     "start_time": "2024-06-17T20:35:18.663371Z"
    }
   },
   "source": [
    "# Ваш код тут\n",
    "max_hours_per_week = data['hours-per-week'].agg('max')\n",
    "people_max_hours = data[data['hours-per-week'] == max_hours_per_week]\n",
    "count_people_max_hours = people_max_hours.shape[0]\n",
    "rich_people_max_hours = people_max_hours[people_max_hours['salary'] == '>50K'].shape[0]\n",
    "percentage_rich_max_hours = (rich_people_max_hours / count_people_max_hours) * 100\n",
    "\n",
    "print('Max hours per week:', max_hours_per_week)\n",
    "print('People:', count_people_max_hours)\n",
    "print(f\"Percentage of rich working max hours: {percentage_rich_max_hours:.2f}%\")\n"
   ],
   "execution_count": 10,
   "outputs": []
  },
  {
   "cell_type": "markdown",
   "metadata": {},
   "source": "**10. Порахуйте середню тривалість роботи на тиждень (*hours-per-week*) серед багатих і бідних (*salary*) для кожної країни (*native-country*).**"
  },
  {
   "cell_type": "code",
   "metadata": {
    "collapsed": true,
    "ExecuteTime": {
     "end_time": "2024-06-17T20:35:18.674981Z",
     "start_time": "2024-06-17T20:35:18.667936Z"
    }
   },
   "source": [
    "# Ваш код тут\n",
    "pd.set_option('display.max_rows', 200)\n",
    "avg_work_hours = data.groupby(['native-country', 'salary'])['hours-per-week'].mean()\n",
    "avg_work_hours"
   ],
   "execution_count": 11,
   "outputs": []
  },
  {
   "metadata": {
    "ExecuteTime": {
     "end_time": "2024-06-17T20:35:18.677518Z",
     "start_time": "2024-06-17T20:35:18.675944Z"
    }
   },
   "cell_type": "code",
   "source": "",
   "execution_count": 11,
   "outputs": []
  }
 ],
 "metadata": {
  "anaconda-cloud": {},
  "kernelspec": {
   "display_name": "Python 3",
   "language": "python",
   "name": "python3"
  },
  "language_info": {
   "codemirror_mode": {
    "name": "ipython",
    "version": 3
   },
   "file_extension": ".py",
   "mimetype": "text/x-python",
   "name": "python",
   "nbconvert_exporter": "python",
   "pygments_lexer": "ipython3",
   "version": "3.6.6"
  }
 },
 "nbformat": 4,
 "nbformat_minor": 1
}
