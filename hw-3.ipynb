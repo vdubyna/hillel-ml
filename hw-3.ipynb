{
 "cells": [
  {
   "cell_type": "markdown",
   "metadata": {},
   "source": [
    "<center>\n",
    "<img src=\"../../img/ods_stickers.jpg\">\n",
    "## Открытый курс по машинному обучению\n",
    "<center>\n",
    "Автор материала: Юрий Кашницкий, программист-исследователь Mail.Ru Group <br> \n",
    "\n",
    "Материал распространяется на условиях лицензии [Creative Commons CC BY-NC-SA 4.0](https://creativecommons.org/licenses/by-nc-sa/4.0/). Можно использовать в любых целях (редактировать, поправлять и брать за основу), кроме коммерческих, но с обязательным упоминанием автора материала."
   ]
  },
  {
   "cell_type": "markdown",
   "metadata": {},
   "source": "# <center>Домашнє завдання № 1 (демо).<br> Аналіз даних доходів населення UCI Adult</center>"
  },
  {
   "cell_type": "markdown",
   "metadata": {},
   "source": "**В завданні пропонується за допомогою Pandas дати відповідь на кілька запитань по даним репозиторія UCI [Adult](https://archive.ics.uci.edu/ml/datasets/Adult).**"
  },
  {
   "cell_type": "markdown",
   "metadata": {},
   "source": [
    "Унікальні значення ознак:\n",
    "- age: continuous.\n",
    "- workclass: Private, Self-emp-not-inc, Self-emp-inc, Federal-gov, Local-gov, State-gov, Without-pay, Never-worked.\n",
    "- fnlwgt: continuous.\n",
    "- education: Bachelors, Some-college, 11th, HS-grad, Prof-school, Assoc-acdm, Assoc-voc, 9th, 7th-8th, 12th, Masters, 1st-4th, 10th, Doctorate, 5th-6th, Preschool.\n",
    "- education-num: continuous.\n",
    "- marital-status: Married-civ-spouse, Divorced, Never-married, Separated, Widowed, Married-spouse-absent, Married-AF-spouse.\n",
    "- occupation: Tech-support, Craft-repair, Other-service, Sales, Exec-managerial, Prof-specialty, Handlers-cleaners, Machine-op-inspct, Adm-clerical, Farming-fishing, Transport-moving, Priv-house-serv, Protective-serv, Armed-Forces.\n",
    "- relationship: Wife, Own-child, Husband, Not-in-family, Other-relative, Unmarried.\n",
    "- race: White, Asian-Pac-Islander, Amer-Indian-Eskimo, Other, Black.\n",
    "- sex: Female, Male.\n",
    "- capital-gain: continuous.\n",
    "- capital-loss: continuous.\n",
    "- hours-per-week: continuous.\n",
    "- native-country: United-States, Cambodia, England, Puerto-Rico, Canada, Germany, Outlying-US(Guam-USVI-etc), India, Japan, Greece, South, China, Cuba, Iran, Honduras, Philippines, Italy, Poland, Jamaica, Vietnam, Mexico, Portugal, Ireland, France, Dominican-Republic, Laos, Ecuador, Taiwan, Haiti, Columbia, Hungary, Guatemala, Nicaragua, Scotland, Thailand, Yugoslavia, El-Salvador, Trinadad&Tobago, Peru, Hong, Holand-Netherlands.   \n",
    "- salary: >50K,<=50K"
   ]
  },
  {
   "cell_type": "code",
   "metadata": {
    "ExecuteTime": {
     "end_time": "2024-06-17T20:35:18.557131Z",
     "start_time": "2024-06-17T20:35:18.182944Z"
    }
   },
   "source": [
    "import pandas as pd\n",
    "import numpy as np"
   ],
   "outputs": [],
   "execution_count": 1
  },
  {
   "cell_type": "code",
   "metadata": {
    "ExecuteTime": {
     "end_time": "2024-06-17T20:38:43.215824Z",
     "start_time": "2024-06-17T20:38:41.411168Z"
    }
   },
   "source": [
    "data = pd.read_csv('https://raw.githubusercontent.com/vdubyna/hillel-ml/main/hw-3/adult.data.csv')\n",
    "data.head()"
   ],
   "outputs": [
    {
     "data": {
      "text/plain": [
       "   age         workclass  fnlwgt  education  education-num  \\\n",
       "0   39         State-gov   77516  Bachelors             13   \n",
       "1   50  Self-emp-not-inc   83311  Bachelors             13   \n",
       "2   38           Private  215646    HS-grad              9   \n",
       "3   53           Private  234721       11th              7   \n",
       "4   28           Private  338409  Bachelors             13   \n",
       "\n",
       "       marital-status         occupation   relationship   race     sex  \\\n",
       "0       Never-married       Adm-clerical  Not-in-family  White    Male   \n",
       "1  Married-civ-spouse    Exec-managerial        Husband  White    Male   \n",
       "2            Divorced  Handlers-cleaners  Not-in-family  White    Male   \n",
       "3  Married-civ-spouse  Handlers-cleaners        Husband  Black    Male   \n",
       "4  Married-civ-spouse     Prof-specialty           Wife  Black  Female   \n",
       "\n",
       "   capital-gain  capital-loss  hours-per-week native-country salary  \n",
       "0          2174             0              40  United-States  <=50K  \n",
       "1             0             0              13  United-States  <=50K  \n",
       "2             0             0              40  United-States  <=50K  \n",
       "3             0             0              40  United-States  <=50K  \n",
       "4             0             0              40           Cuba  <=50K  "
      ],
      "text/html": [
       "<div>\n",
       "<style scoped>\n",
       "    .dataframe tbody tr th:only-of-type {\n",
       "        vertical-align: middle;\n",
       "    }\n",
       "\n",
       "    .dataframe tbody tr th {\n",
       "        vertical-align: top;\n",
       "    }\n",
       "\n",
       "    .dataframe thead th {\n",
       "        text-align: right;\n",
       "    }\n",
       "</style>\n",
       "<table border=\"1\" class=\"dataframe\">\n",
       "  <thead>\n",
       "    <tr style=\"text-align: right;\">\n",
       "      <th></th>\n",
       "      <th>age</th>\n",
       "      <th>workclass</th>\n",
       "      <th>fnlwgt</th>\n",
       "      <th>education</th>\n",
       "      <th>education-num</th>\n",
       "      <th>marital-status</th>\n",
       "      <th>occupation</th>\n",
       "      <th>relationship</th>\n",
       "      <th>race</th>\n",
       "      <th>sex</th>\n",
       "      <th>capital-gain</th>\n",
       "      <th>capital-loss</th>\n",
       "      <th>hours-per-week</th>\n",
       "      <th>native-country</th>\n",
       "      <th>salary</th>\n",
       "    </tr>\n",
       "  </thead>\n",
       "  <tbody>\n",
       "    <tr>\n",
       "      <th>0</th>\n",
       "      <td>39</td>\n",
       "      <td>State-gov</td>\n",
       "      <td>77516</td>\n",
       "      <td>Bachelors</td>\n",
       "      <td>13</td>\n",
       "      <td>Never-married</td>\n",
       "      <td>Adm-clerical</td>\n",
       "      <td>Not-in-family</td>\n",
       "      <td>White</td>\n",
       "      <td>Male</td>\n",
       "      <td>2174</td>\n",
       "      <td>0</td>\n",
       "      <td>40</td>\n",
       "      <td>United-States</td>\n",
       "      <td>&lt;=50K</td>\n",
       "    </tr>\n",
       "    <tr>\n",
       "      <th>1</th>\n",
       "      <td>50</td>\n",
       "      <td>Self-emp-not-inc</td>\n",
       "      <td>83311</td>\n",
       "      <td>Bachelors</td>\n",
       "      <td>13</td>\n",
       "      <td>Married-civ-spouse</td>\n",
       "      <td>Exec-managerial</td>\n",
       "      <td>Husband</td>\n",
       "      <td>White</td>\n",
       "      <td>Male</td>\n",
       "      <td>0</td>\n",
       "      <td>0</td>\n",
       "      <td>13</td>\n",
       "      <td>United-States</td>\n",
       "      <td>&lt;=50K</td>\n",
       "    </tr>\n",
       "    <tr>\n",
       "      <th>2</th>\n",
       "      <td>38</td>\n",
       "      <td>Private</td>\n",
       "      <td>215646</td>\n",
       "      <td>HS-grad</td>\n",
       "      <td>9</td>\n",
       "      <td>Divorced</td>\n",
       "      <td>Handlers-cleaners</td>\n",
       "      <td>Not-in-family</td>\n",
       "      <td>White</td>\n",
       "      <td>Male</td>\n",
       "      <td>0</td>\n",
       "      <td>0</td>\n",
       "      <td>40</td>\n",
       "      <td>United-States</td>\n",
       "      <td>&lt;=50K</td>\n",
       "    </tr>\n",
       "    <tr>\n",
       "      <th>3</th>\n",
       "      <td>53</td>\n",
       "      <td>Private</td>\n",
       "      <td>234721</td>\n",
       "      <td>11th</td>\n",
       "      <td>7</td>\n",
       "      <td>Married-civ-spouse</td>\n",
       "      <td>Handlers-cleaners</td>\n",
       "      <td>Husband</td>\n",
       "      <td>Black</td>\n",
       "      <td>Male</td>\n",
       "      <td>0</td>\n",
       "      <td>0</td>\n",
       "      <td>40</td>\n",
       "      <td>United-States</td>\n",
       "      <td>&lt;=50K</td>\n",
       "    </tr>\n",
       "    <tr>\n",
       "      <th>4</th>\n",
       "      <td>28</td>\n",
       "      <td>Private</td>\n",
       "      <td>338409</td>\n",
       "      <td>Bachelors</td>\n",
       "      <td>13</td>\n",
       "      <td>Married-civ-spouse</td>\n",
       "      <td>Prof-specialty</td>\n",
       "      <td>Wife</td>\n",
       "      <td>Black</td>\n",
       "      <td>Female</td>\n",
       "      <td>0</td>\n",
       "      <td>0</td>\n",
       "      <td>40</td>\n",
       "      <td>Cuba</td>\n",
       "      <td>&lt;=50K</td>\n",
       "    </tr>\n",
       "  </tbody>\n",
       "</table>\n",
       "</div>"
      ]
     },
     "execution_count": 12,
     "metadata": {},
     "output_type": "execute_result"
    }
   ],
   "execution_count": 12
  },
  {
   "cell_type": "markdown",
   "metadata": {},
   "source": "**1. Скільки чоловіків и жінок (ознака *sex*) представлено в цьому наборі даних?**"
  },
  {
   "cell_type": "code",
   "metadata": {
    "collapsed": true,
    "ExecuteTime": {
     "end_time": "2024-06-17T20:35:18.605002Z",
     "start_time": "2024-06-17T20:35:18.601449Z"
    }
   },
   "source": [
    "# Ваш код тут\n",
    "data['sex'].value_counts()"
   ],
   "outputs": [
    {
     "data": {
      "text/plain": [
       "sex\n",
       "Male      21790\n",
       "Female    10771\n",
       "Name: count, dtype: int64"
      ]
     },
     "execution_count": 3,
     "metadata": {},
     "output_type": "execute_result"
    }
   ],
   "execution_count": 3
  },
  {
   "cell_type": "markdown",
   "metadata": {},
   "source": "**2. Який середній вік (ознака *age*) жінок?**"
  },
  {
   "cell_type": "code",
   "metadata": {
    "collapsed": true,
    "ExecuteTime": {
     "end_time": "2024-06-17T20:35:18.611419Z",
     "start_time": "2024-06-17T20:35:18.605810Z"
    }
   },
   "source": [
    "# Ваш код тут\n",
    "data[data['sex'] == 'Female']['age'].mean()"
   ],
   "outputs": [
    {
     "data": {
      "text/plain": [
       "36.85823043357163"
      ]
     },
     "execution_count": 4,
     "metadata": {},
     "output_type": "execute_result"
    }
   ],
   "execution_count": 4
  },
  {
   "cell_type": "markdown",
   "metadata": {},
   "source": "**3. Яка доля громадян Німеччини (ознака *native-country*)?**"
  },
  {
   "cell_type": "code",
   "metadata": {
    "collapsed": true,
    "ExecuteTime": {
     "end_time": "2024-06-17T20:35:18.619170Z",
     "start_time": "2024-06-17T20:35:18.613044Z"
    }
   },
   "source": [
    "# Ваш код тут\n",
    "germany_percentage1 = data['native-country'].value_counts(normalize=True)['Germany'] * 100\n",
    "print(\"Calc option1: {:.2f}%\".format(germany_percentage1))\n",
    "\n",
    "total = data['native-country'].count()\n",
    "germany = data[data['native-country'] == 'Germany']['native-country'].count()\n",
    "\n",
    "germany_percentage2 = (germany / total) * 100\n",
    "print(\"Calc option2: {:.2f}%\".format(germany_percentage2))\n",
    "\n"
   ],
   "outputs": [
    {
     "name": "stdout",
     "output_type": "stream",
     "text": [
      "Calc option1: 0.42%\n",
      "Calc option2: 0.42%\n"
     ]
    }
   ],
   "execution_count": 5
  },
  {
   "cell_type": "markdown",
   "metadata": {},
   "source": "**4-5. Які средні значення та средньоквадратичні відхилення віку тих, хто отримує більше 50K на рік (ознака *salary*) і тих, хто отримує менше 50K на рік?**"
  },
  {
   "cell_type": "code",
   "metadata": {
    "collapsed": true,
    "ExecuteTime": {
     "end_time": "2024-06-17T20:35:18.628514Z",
     "start_time": "2024-06-17T20:35:18.619879Z"
    }
   },
   "source": [
    "# Ваш код тут\n",
    "more_than_50k_age = data[data['salary'] == '>50K']['age']\n",
    "mean_more_than_50k = more_than_50k_age.mean()\n",
    "std_dev_more_than_50k = more_than_50k_age.std()\n",
    "\n",
    "less_than_50k_age = data[data['salary'] == '<=50K']['age']\n",
    "mean_less_than_50k = less_than_50k_age.mean()\n",
    "std_dev_less_than_50k = less_than_50k_age.std()\n",
    "\n",
    "print('> 50K:')\n",
    "print(f\"Mean age: {mean_more_than_50k:.2f}\")\n",
    "print(f\"Std age: {std_dev_more_than_50k:.2f}\")\n",
    "\n",
    "print('<= 50K:')\n",
    "print(f\"Mean age:', {mean_less_than_50k:.2f}\")\n",
    "print(f\"Std age:', {std_dev_less_than_50k:.2f}\")"
   ],
   "outputs": [
    {
     "name": "stdout",
     "output_type": "stream",
     "text": [
      "> 50K:\n",
      "Mean age: 44.25\n",
      "Std age: 10.52\n",
      "<= 50K:\n",
      "Mean age:', 36.78\n",
      "Std age:', 14.02\n"
     ]
    }
   ],
   "execution_count": 6
  },
  {
   "cell_type": "markdown",
   "metadata": {
    "ExecuteTime": {
     "end_time": "2024-06-17T18:59:08.550348Z",
     "start_time": "2024-06-17T18:59:08.541411Z"
    }
   },
   "source": "**6. Чи правда, що люди, які отримують більше 50k, мають як мінімум вищу освіту? (ознака *education – Bachelors, Prof-school, Assoc-acdm, Assoc-voc, Masters* или *Doctorate*)**"
  },
  {
   "cell_type": "code",
   "metadata": {
    "collapsed": true,
    "ExecuteTime": {
     "end_time": "2024-06-17T20:35:18.634972Z",
     "start_time": "2024-06-17T20:35:18.629143Z"
    }
   },
   "source": [
    "# Ваш код тут\n",
    "high_salary = data[data['salary'] == '>50K']\n",
    "high_educations = ['Bachelors', 'Prof-school', 'Assoc-acdm', 'Assoc-voc', 'Masters', 'Doctorate']\n",
    "\n",
    "education_more_50k_values = high_salary['education'].value_counts()\n",
    "print(education_more_50k_values)\n",
    "\n",
    "high_educated_high_salary = high_salary['education'].isin(high_educations).sum()\n",
    "\n",
    "total_high_salary = high_salary.shape[0]\n",
    "\n",
    "percentage_high_educated_high_salary = (high_educated_high_salary / total_high_salary) * 100\n",
    "\n",
    "print(f\"Percentage of high salary earners with higher education: {percentage_high_educated_high_salary:.2f}%\")"
   ],
   "outputs": [
    {
     "name": "stdout",
     "output_type": "stream",
     "text": [
      "education\n",
      "Bachelors       2221\n",
      "HS-grad         1675\n",
      "Some-college    1387\n",
      "Masters          959\n",
      "Prof-school      423\n",
      "Assoc-voc        361\n",
      "Doctorate        306\n",
      "Assoc-acdm       265\n",
      "10th              62\n",
      "11th              60\n",
      "7th-8th           40\n",
      "12th              33\n",
      "9th               27\n",
      "5th-6th           16\n",
      "1st-4th            6\n",
      "Name: count, dtype: int64\n",
      "Percentage of high salary earners with higher education: 57.84%\n"
     ]
    }
   ],
   "execution_count": 7
  },
  {
   "cell_type": "markdown",
   "metadata": {},
   "source": "**7. Порахуйте статистику віку для кожної раси (ознака *race*) і кожної статі. Використайте *groupby* и *describe*. Знайдіть таким сином максимальний вік чоловіків раси *Amer-Indian-Eskimo*.**"
  },
  {
   "cell_type": "code",
   "metadata": {
    "collapsed": true,
    "ExecuteTime": {
     "end_time": "2024-06-17T20:35:18.653660Z",
     "start_time": "2024-06-17T20:35:18.635851Z"
    }
   },
   "source": [
    "# Ваш код тут\n",
    "data.groupby(['sex', 'race'])['age'].describe()"
   ],
   "outputs": [
    {
     "data": {
      "text/plain": [
       "                             count       mean        std   min   25%   50%  \\\n",
       "sex    race                                                                  \n",
       "Female Amer-Indian-Eskimo    119.0  37.117647  13.114991  17.0  27.0  36.0   \n",
       "       Asian-Pac-Islander    346.0  35.089595  12.300845  17.0  25.0  33.0   \n",
       "       Black                1555.0  37.854019  12.637197  17.0  28.0  37.0   \n",
       "       Other                 109.0  31.678899  11.631599  17.0  23.0  29.0   \n",
       "       White                8642.0  36.811618  14.329093  17.0  25.0  35.0   \n",
       "Male   Amer-Indian-Eskimo    192.0  37.208333  12.049563  17.0  28.0  35.0   \n",
       "       Asian-Pac-Islander    693.0  39.073593  12.883944  18.0  29.0  37.0   \n",
       "       Black                1569.0  37.682600  12.882612  17.0  27.0  36.0   \n",
       "       Other                 162.0  34.654321  11.355531  17.0  26.0  32.0   \n",
       "       White               19174.0  39.652498  13.436029  17.0  29.0  38.0   \n",
       "\n",
       "                             75%   max  \n",
       "sex    race                             \n",
       "Female Amer-Indian-Eskimo  46.00  80.0  \n",
       "       Asian-Pac-Islander  43.75  75.0  \n",
       "       Black               46.00  90.0  \n",
       "       Other               39.00  74.0  \n",
       "       White               46.00  90.0  \n",
       "Male   Amer-Indian-Eskimo  45.00  82.0  \n",
       "       Asian-Pac-Islander  46.00  90.0  \n",
       "       Black               46.00  90.0  \n",
       "       Other               42.00  77.0  \n",
       "       White               49.00  90.0  "
      ],
      "text/html": [
       "<div>\n",
       "<style scoped>\n",
       "    .dataframe tbody tr th:only-of-type {\n",
       "        vertical-align: middle;\n",
       "    }\n",
       "\n",
       "    .dataframe tbody tr th {\n",
       "        vertical-align: top;\n",
       "    }\n",
       "\n",
       "    .dataframe thead th {\n",
       "        text-align: right;\n",
       "    }\n",
       "</style>\n",
       "<table border=\"1\" class=\"dataframe\">\n",
       "  <thead>\n",
       "    <tr style=\"text-align: right;\">\n",
       "      <th></th>\n",
       "      <th></th>\n",
       "      <th>count</th>\n",
       "      <th>mean</th>\n",
       "      <th>std</th>\n",
       "      <th>min</th>\n",
       "      <th>25%</th>\n",
       "      <th>50%</th>\n",
       "      <th>75%</th>\n",
       "      <th>max</th>\n",
       "    </tr>\n",
       "    <tr>\n",
       "      <th>sex</th>\n",
       "      <th>race</th>\n",
       "      <th></th>\n",
       "      <th></th>\n",
       "      <th></th>\n",
       "      <th></th>\n",
       "      <th></th>\n",
       "      <th></th>\n",
       "      <th></th>\n",
       "      <th></th>\n",
       "    </tr>\n",
       "  </thead>\n",
       "  <tbody>\n",
       "    <tr>\n",
       "      <th rowspan=\"5\" valign=\"top\">Female</th>\n",
       "      <th>Amer-Indian-Eskimo</th>\n",
       "      <td>119.0</td>\n",
       "      <td>37.117647</td>\n",
       "      <td>13.114991</td>\n",
       "      <td>17.0</td>\n",
       "      <td>27.0</td>\n",
       "      <td>36.0</td>\n",
       "      <td>46.00</td>\n",
       "      <td>80.0</td>\n",
       "    </tr>\n",
       "    <tr>\n",
       "      <th>Asian-Pac-Islander</th>\n",
       "      <td>346.0</td>\n",
       "      <td>35.089595</td>\n",
       "      <td>12.300845</td>\n",
       "      <td>17.0</td>\n",
       "      <td>25.0</td>\n",
       "      <td>33.0</td>\n",
       "      <td>43.75</td>\n",
       "      <td>75.0</td>\n",
       "    </tr>\n",
       "    <tr>\n",
       "      <th>Black</th>\n",
       "      <td>1555.0</td>\n",
       "      <td>37.854019</td>\n",
       "      <td>12.637197</td>\n",
       "      <td>17.0</td>\n",
       "      <td>28.0</td>\n",
       "      <td>37.0</td>\n",
       "      <td>46.00</td>\n",
       "      <td>90.0</td>\n",
       "    </tr>\n",
       "    <tr>\n",
       "      <th>Other</th>\n",
       "      <td>109.0</td>\n",
       "      <td>31.678899</td>\n",
       "      <td>11.631599</td>\n",
       "      <td>17.0</td>\n",
       "      <td>23.0</td>\n",
       "      <td>29.0</td>\n",
       "      <td>39.00</td>\n",
       "      <td>74.0</td>\n",
       "    </tr>\n",
       "    <tr>\n",
       "      <th>White</th>\n",
       "      <td>8642.0</td>\n",
       "      <td>36.811618</td>\n",
       "      <td>14.329093</td>\n",
       "      <td>17.0</td>\n",
       "      <td>25.0</td>\n",
       "      <td>35.0</td>\n",
       "      <td>46.00</td>\n",
       "      <td>90.0</td>\n",
       "    </tr>\n",
       "    <tr>\n",
       "      <th rowspan=\"5\" valign=\"top\">Male</th>\n",
       "      <th>Amer-Indian-Eskimo</th>\n",
       "      <td>192.0</td>\n",
       "      <td>37.208333</td>\n",
       "      <td>12.049563</td>\n",
       "      <td>17.0</td>\n",
       "      <td>28.0</td>\n",
       "      <td>35.0</td>\n",
       "      <td>45.00</td>\n",
       "      <td>82.0</td>\n",
       "    </tr>\n",
       "    <tr>\n",
       "      <th>Asian-Pac-Islander</th>\n",
       "      <td>693.0</td>\n",
       "      <td>39.073593</td>\n",
       "      <td>12.883944</td>\n",
       "      <td>18.0</td>\n",
       "      <td>29.0</td>\n",
       "      <td>37.0</td>\n",
       "      <td>46.00</td>\n",
       "      <td>90.0</td>\n",
       "    </tr>\n",
       "    <tr>\n",
       "      <th>Black</th>\n",
       "      <td>1569.0</td>\n",
       "      <td>37.682600</td>\n",
       "      <td>12.882612</td>\n",
       "      <td>17.0</td>\n",
       "      <td>27.0</td>\n",
       "      <td>36.0</td>\n",
       "      <td>46.00</td>\n",
       "      <td>90.0</td>\n",
       "    </tr>\n",
       "    <tr>\n",
       "      <th>Other</th>\n",
       "      <td>162.0</td>\n",
       "      <td>34.654321</td>\n",
       "      <td>11.355531</td>\n",
       "      <td>17.0</td>\n",
       "      <td>26.0</td>\n",
       "      <td>32.0</td>\n",
       "      <td>42.00</td>\n",
       "      <td>77.0</td>\n",
       "    </tr>\n",
       "    <tr>\n",
       "      <th>White</th>\n",
       "      <td>19174.0</td>\n",
       "      <td>39.652498</td>\n",
       "      <td>13.436029</td>\n",
       "      <td>17.0</td>\n",
       "      <td>29.0</td>\n",
       "      <td>38.0</td>\n",
       "      <td>49.00</td>\n",
       "      <td>90.0</td>\n",
       "    </tr>\n",
       "  </tbody>\n",
       "</table>\n",
       "</div>"
      ]
     },
     "execution_count": 8,
     "metadata": {},
     "output_type": "execute_result"
    }
   ],
   "execution_count": 8
  },
  {
   "cell_type": "markdown",
   "metadata": {},
   "source": "**8. Серед кого більша доля багатіших (>50K): серед одружених чи не одружених чоловіків (ознака *marital-status*)? За одружених вважаємо тих, у кого *marital-status* починається із *Married* (Married-civ-spouse, Married-spouse-absent или Married-AF-spouse), всі інші - не одружені.**"
  },
  {
   "cell_type": "code",
   "metadata": {
    "collapsed": true,
    "ExecuteTime": {
     "end_time": "2024-06-17T20:35:18.662762Z",
     "start_time": "2024-06-17T20:35:18.654476Z"
    }
   },
   "source": [
    "# Ваш код тут\n",
    "high_salary = data[data['salary'] == '>50K'].copy()\n",
    "married_statuses = ['Married-civ-spouse', 'Married-spouse-absent', 'Married-AF-spouse']\n",
    "\n",
    "high_salary['is_married'] = high_salary['marital-status'].apply(lambda status: 'Married' if status in married_statuses else 'Not married')\n",
    "\n",
    "high_salary_male = high_salary[high_salary['sex'] == 'Male']\n",
    "total_married = high_salary_male[high_salary_male['is_married'] == 'Married']\n",
    "married_percent = (total_married['is_married'].count() / high_salary_male['is_married'].count()) * 100\n",
    "print(f\"{married_percent:.2f}%\")"
   ],
   "outputs": [
    {
     "name": "stdout",
     "output_type": "stream",
     "text": [
      "89.54%\n"
     ]
    }
   ],
   "execution_count": 9
  },
  {
   "cell_type": "markdown",
   "metadata": {},
   "source": "**9. Яку максимальну кількість годин в тиждень працює людина (ознака *hours-per-week*)? Скільки людей працюють таку кількість годин і який відсоток серед них багатих?**"
  },
  {
   "cell_type": "code",
   "metadata": {
    "collapsed": true,
    "ExecuteTime": {
     "end_time": "2024-06-17T20:35:18.667123Z",
     "start_time": "2024-06-17T20:35:18.663371Z"
    }
   },
   "source": [
    "# Ваш код тут\n",
    "max_hours_per_week = data['hours-per-week'].agg('max')\n",
    "people_max_hours = data[data['hours-per-week'] == max_hours_per_week]\n",
    "count_people_max_hours = people_max_hours.shape[0]\n",
    "rich_people_max_hours = people_max_hours[people_max_hours['salary'] == '>50K'].shape[0]\n",
    "percentage_rich_max_hours = (rich_people_max_hours / count_people_max_hours) * 100\n",
    "\n",
    "print('Max hours per week:', max_hours_per_week)\n",
    "print('People:', count_people_max_hours)\n",
    "print(f\"Percentage of rich working max hours: {percentage_rich_max_hours:.2f}%\")\n"
   ],
   "outputs": [
    {
     "name": "stdout",
     "output_type": "stream",
     "text": [
      "Max hours per week: 99\n",
      "People: 85\n",
      "Percentage of rich working max hours: 29.41%\n"
     ]
    }
   ],
   "execution_count": 10
  },
  {
   "cell_type": "markdown",
   "metadata": {},
   "source": "**10. Порахуйте середню тривалість роботи на тиждень (*hours-per-week*) серед багатих і бідних (*salary*) для кожної країни (*native-country*).**"
  },
  {
   "cell_type": "code",
   "metadata": {
    "collapsed": true,
    "ExecuteTime": {
     "end_time": "2024-06-17T20:35:18.674981Z",
     "start_time": "2024-06-17T20:35:18.667936Z"
    }
   },
   "source": [
    "# Ваш код тут\n",
    "pd.set_option('display.max_rows', 200)\n",
    "avg_work_hours = data.groupby(['native-country', 'salary'])['hours-per-week'].mean()\n",
    "avg_work_hours"
   ],
   "outputs": [
    {
     "data": {
      "text/plain": [
       "native-country              salary\n",
       "?                           <=50K     40.164760\n",
       "                            >50K      45.547945\n",
       "Cambodia                    <=50K     41.416667\n",
       "                            >50K      40.000000\n",
       "Canada                      <=50K     37.914634\n",
       "                            >50K      45.641026\n",
       "China                       <=50K     37.381818\n",
       "                            >50K      38.900000\n",
       "Columbia                    <=50K     38.684211\n",
       "                            >50K      50.000000\n",
       "Cuba                        <=50K     37.985714\n",
       "                            >50K      42.440000\n",
       "Dominican-Republic          <=50K     42.338235\n",
       "                            >50K      47.000000\n",
       "Ecuador                     <=50K     38.041667\n",
       "                            >50K      48.750000\n",
       "El-Salvador                 <=50K     36.030928\n",
       "                            >50K      45.000000\n",
       "England                     <=50K     40.483333\n",
       "                            >50K      44.533333\n",
       "France                      <=50K     41.058824\n",
       "                            >50K      50.750000\n",
       "Germany                     <=50K     39.139785\n",
       "                            >50K      44.977273\n",
       "Greece                      <=50K     41.809524\n",
       "                            >50K      50.625000\n",
       "Guatemala                   <=50K     39.360656\n",
       "                            >50K      36.666667\n",
       "Haiti                       <=50K     36.325000\n",
       "                            >50K      42.750000\n",
       "Holand-Netherlands          <=50K     40.000000\n",
       "Honduras                    <=50K     34.333333\n",
       "                            >50K      60.000000\n",
       "Hong                        <=50K     39.142857\n",
       "                            >50K      45.000000\n",
       "Hungary                     <=50K     31.300000\n",
       "                            >50K      50.000000\n",
       "India                       <=50K     38.233333\n",
       "                            >50K      46.475000\n",
       "Iran                        <=50K     41.440000\n",
       "                            >50K      47.500000\n",
       "Ireland                     <=50K     40.947368\n",
       "                            >50K      48.000000\n",
       "Italy                       <=50K     39.625000\n",
       "                            >50K      45.400000\n",
       "Jamaica                     <=50K     38.239437\n",
       "                            >50K      41.100000\n",
       "Japan                       <=50K     41.000000\n",
       "                            >50K      47.958333\n",
       "Laos                        <=50K     40.375000\n",
       "                            >50K      40.000000\n",
       "Mexico                      <=50K     40.003279\n",
       "                            >50K      46.575758\n",
       "Nicaragua                   <=50K     36.093750\n",
       "                            >50K      37.500000\n",
       "Outlying-US(Guam-USVI-etc)  <=50K     41.857143\n",
       "Peru                        <=50K     35.068966\n",
       "                            >50K      40.000000\n",
       "Philippines                 <=50K     38.065693\n",
       "                            >50K      43.032787\n",
       "Poland                      <=50K     38.166667\n",
       "                            >50K      39.000000\n",
       "Portugal                    <=50K     41.939394\n",
       "                            >50K      41.500000\n",
       "Puerto-Rico                 <=50K     38.470588\n",
       "                            >50K      39.416667\n",
       "Scotland                    <=50K     39.444444\n",
       "                            >50K      46.666667\n",
       "South                       <=50K     40.156250\n",
       "                            >50K      51.437500\n",
       "Taiwan                      <=50K     33.774194\n",
       "                            >50K      46.800000\n",
       "Thailand                    <=50K     42.866667\n",
       "                            >50K      58.333333\n",
       "Trinadad&Tobago             <=50K     37.058824\n",
       "                            >50K      40.000000\n",
       "United-States               <=50K     38.799127\n",
       "                            >50K      45.505369\n",
       "Vietnam                     <=50K     37.193548\n",
       "                            >50K      39.200000\n",
       "Yugoslavia                  <=50K     41.600000\n",
       "                            >50K      49.500000\n",
       "Name: hours-per-week, dtype: float64"
      ]
     },
     "execution_count": 11,
     "metadata": {},
     "output_type": "execute_result"
    }
   ],
   "execution_count": 11
  },
  {
   "metadata": {
    "ExecuteTime": {
     "end_time": "2024-06-17T20:35:18.677518Z",
     "start_time": "2024-06-17T20:35:18.675944Z"
    }
   },
   "cell_type": "code",
   "source": "",
   "outputs": [],
   "execution_count": 11
  }
 ],
 "metadata": {
  "anaconda-cloud": {},
  "kernelspec": {
   "display_name": "Python 3",
   "language": "python",
   "name": "python3"
  },
  "language_info": {
   "codemirror_mode": {
    "name": "ipython",
    "version": 3
   },
   "file_extension": ".py",
   "mimetype": "text/x-python",
   "name": "python",
   "nbconvert_exporter": "python",
   "pygments_lexer": "ipython3",
   "version": "3.6.6"
  }
 },
 "nbformat": 4,
 "nbformat_minor": 1
}
